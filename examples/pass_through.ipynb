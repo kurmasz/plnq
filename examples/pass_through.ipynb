{
 "cells": [
  {
   "cell_type": "code",
   "execution_count": null,
   "metadata": {},
   "outputs": [],
   "source": [
    "#################################################################\n",
    "#\n",
    "# pass_through.ipynb\n",
    "#\n",
    "# Demonstrates how to pass specific blocks (code and markdown)\n",
    "# through without processing.\n",
    "#\n",
    "# (For purpose of regression testing, this example also verifies\n",
    "# that strings with double quotes are properly escaped when building\n",
    "# the test code.)\n",
    "#\n",
    "# !!! IMPORTANT !!! This is also a regression test !!! \n",
    "#################################################################\n",
    "\n",
    "import re\n",
    "\n",
    "# \"Magic\" code to place `plnq` into the Jupyter environment's namespace \n",
    "# without overwriting the plnq object injected by the plnq executable.\n",
    "# (You can safely remove these two lines; but, then your editor will\n",
    "# probably complain that plnq is not defined.)\n",
    "if not 'plnq' in globals():  \n",
    "    plnq = __import__('types').SimpleNamespace()\n",
    "    plnq.add_function = lambda *args, **kwargs: (args, kwargs)\n",
    "\n",
    "# Data for info.json\n",
    "plnq.info = {\n",
    "    \"title\": \"Regular Expression capture\",\n",
    "    \"topic\": \"regex\",\n",
    "    \"tags\": [\"regex\", \"ic\"]\n",
    "}"
   ]
  },
  {
   "cell_type": "markdown",
   "metadata": {},
   "source": [
    "# InClass: Regular Expression Capture\n",
    "\n",
    "You may find these resources helpful:\n",
    "  * Chapter 12 from the online textbook [Python for Everybody](https://runestone.academy/ns/books/published/py4e-int/regex/combiningsearchingandextracting.html).\n",
    "  * The [Python re documentation](https://docs.python.org/3/library/re.html).\n",
    "\n",
    "When applying a regular expression pattern to a string, we can \"capture\" part of that pattern.\n",
    "\n",
    "Recall that part of a regular expression pattern can be in parentheses. Originally, we used parentheses to group a portion of the regular expression to be repeated, or to group alternatives. We can extract the portion of a string that matches these parentheses.\n",
    "\n",
    "The function `re.search()` returns a `re.Match` object when a string matches a pattern. We can query this object to find out exactly what matches.\n",
    "\n",
    "Notice that `search()` only finds the _first_ match.\n",
    "\n",
    "!!!PLNQ.PassThrough!!!"
   ]
  },
  {
   "cell_type": "code",
   "execution_count": null,
   "metadata": {},
   "outputs": [],
   "source": [
    "import re\n",
    "words = ['bat', 'cat', 'bit', 'bite', 'abate', 'robot', 'baste', 'rabid', 'debt', 'about', 'bitbot']\n",
    "for word in words:\n",
    "    match = re.search(r'b.t', word)\n",
    "    if match == None:\n",
    "        print(f\"'{word}' does not match.\")\n",
    "    else:\n",
    "        print(f\"characters '{match.group()}' at positions {match.span()} match\")\n",
    "\n",
    "# !!!PLNQ.PassThrough!!!                   "
   ]
  },
  {
   "cell_type": "markdown",
   "metadata": {},
   "source": [
    "We can also use the `Match` object to access any portion of the pattern marked with parentheses:\n",
    "\n",
    "!!!PLNQ.PassThrough!!!"
   ]
  },
  {
   "cell_type": "code",
   "execution_count": null,
   "metadata": {},
   "outputs": [],
   "source": [
    "import re\n",
    "\n",
    "films2 = ['Frontier(s) (2007)', '(K)nox: The Rob Knox Story (2021)', 'I (Almost) Got Away With It (2010)', 'Star Wars', 'Superman (19887)']\n",
    "for film in films2:\n",
    "    match = re.search (r'\\((\\d{4})\\)$', film)\n",
    "    if match == None:\n",
    "        print(f\"'{film}' does not match.\")\n",
    "    else:\n",
    "        print(f\"Entire matching portion: {match[0]}\") # Notice that match[0] is the entire match\n",
    "        print(f\"Group 1: {match[1]}\")\n",
    "\n",
    "# !!!PLNQ.PassThrough!!!   "
   ]
  },
  {
   "cell_type": "markdown",
   "metadata": {},
   "source": [
    "# Task 1\n",
    "\n",
    "Write a method !!!`extract_phone(str)`!!! that extracts the digits from a phone number in the form `616-231-5544`, or returns `None` if the string is not a properly formatted phone number. (Match the entire string.)"
   ]
  },
  {
   "cell_type": "code",
   "execution_count": null,
   "metadata": {},
   "outputs": [],
   "source": [
    "import re\n",
    "def extract_phone(str):\n",
    "    m = re.search(r'^(\\d{3})-(\\d{3})-(\\d{4})$', str)\n",
    "    if not m:\n",
    "        return None\n",
    "    return f\"{m[1]}{m[2]}{m[3]}\"\n",
    "\n",
    "\n",
    "plnq.add_function('extract_phone',\n",
    "  desc=\"A function that extract the digits from a formatted phone number\",         \n",
    "  displayed_examples=[\n",
    "    ['616-231-4455', '6162314455'],\n",
    "    ['(616)-231-4455', None],\n",
    "    ['616-231-445', None]\n",
    "  ],\n",
    "  test_cases=[\n",
    "    ['517-432-8841', '5174328841'],\n",
    "    ['313-735-2132', '3137352132'],\n",
    "    ['1-313-735-2132', None],\n",
    "    ['313-75-2132', None],\n",
    "  ]\n",
    ")"
   ]
  },
  {
   "cell_type": "markdown",
   "metadata": {},
   "source": [
    "# Task 2\n",
    "\n",
    "Consider the format string used by `matplotlib's` `plot` function: (https://matplotlib.org/stable/api/_as_gen/matplotlib.pyplot.plot.html)\n",
    "\n",
    "Write a function !!!`parse_format(str)`!!! that uses a regular expression to parse and extract the marker, line, and color from a format string.\n",
    "* Assume the components are in this order: marker, line, color.\n",
    "* Return the extracted values as a tuple: `(marker, line, color)`\n",
    "* Each component is optional. If a component is not present, place `None` in the tuple. \n",
    "* If the string is not a valid format string, return `None`\n",
    "\n",
    "Hint: The following letters are used for colors: `b`, `g`, `r`, `c`, `m`, `y`, `k`, and `w`. None of these letters are valid markers.\n"
   ]
  },
  {
   "cell_type": "code",
   "execution_count": null,
   "metadata": {},
   "outputs": [],
   "source": [
    "import re\n",
    "def parse_format(str):\n",
    "    m = re.search(r'^([^bgrcmykw\\-\\.:])?(-|--|-.|:)?([bgrcmykw])?$', str)\n",
    "    if not m:\n",
    "        return None\n",
    "    return (m[1], m[2], m[3])\n",
    "\n",
    "plnq.add_function('parse_format',\n",
    "  desc=\"A function to parse matplotlib's format string\",         \n",
    "  displayed_examples=[\n",
    "    ['D-g', ('D', '-', 'g')],\n",
    "    ['k', (None, None, 'k')],\n",
    "    [':y', (None, ':', 'y')]\n",
    "  ],\n",
    "  test_cases=[\n",
    "    ['>--m', ('>', '--', 'm')],\n",
    "    ['Dm--z', None],\n",
    "    ['X-.w', ('X', '-.', 'w')],\n",
    "    ['X-.', ('X', '-.', None)],\n",
    "    ['-.w', (None, '-.', 'w')],\n",
    "    ['-.', (None, '-.', None)],\n",
    "    ['Xw', ('X', None, 'w')],\n",
    "    ['X', ('X', None, None)],\n",
    "    ['w', (None, None, 'w')],\n",
    "    ['d:c', ('d', ':', 'c')],\n",
    "  ]\n",
    ")"
   ]
  },
  {
   "cell_type": "markdown",
   "metadata": {},
   "source": [
    "# Task 3\n",
    "\n",
    "Write a function !!!`get_first_quote(str)`!!! that returns the contents of the _first_ quote in a string. (Be careful: The string may contain more than one quote.). Return `None` if the string does not contain any quotes."
   ]
  },
  {
   "cell_type": "code",
   "execution_count": null,
   "metadata": {},
   "outputs": [
    {
     "name": "stdout",
     "output_type": "stream",
     "text": [
      "Pickles\\\n"
     ]
    },
    {
     "data": {
      "text/plain": [
       "(('get_first_quote',),\n",
       " {'desc': 'A function returning the first quote in a string',\n",
       "  'displayed_examples': [['Here comes \\\\\"Pickles\\\\\" and \\\\\"Wheezer\\\\\".',\n",
       "    'Pickles'],\n",
       "   ['There are no quotes here', None]],\n",
       "  'test_cases': [['More nicknames: \\\\\"Stretch\\\\\", \\\\\"Gravity\\\\\", \\\\\"Rainmaker\\\\\"',\n",
       "    'Stretch'],\n",
       "   ['This is a \\\\\"Partial quotation', None],\n",
       "   ['End with a \\\\\"quote\\\\\"', 'quote']]})"
      ]
     },
     "execution_count": 2,
     "metadata": {},
     "output_type": "execute_result"
    }
   ],
   "source": [
    "import re\n",
    "def get_first_quote(str):\n",
    "    m = re.search(r'\"([^\"]*)\"', str)\n",
    "    return m[1] if m else None\n",
    "\n",
    "plnq.add_function('get_first_quote',\n",
    "  desc=\"A function returning the first quote in a string\",         \n",
    "  displayed_examples=[\n",
    "    ['Here comes \"Pickles\" and \"Wheezer\".', \"Pickles\"],\n",
    "    ['There are no quotes here', None]\n",
    "  ],\n",
    "  test_cases=[\n",
    "    ['More nicknames: \"Stretch\", \"Gravity\", \"Rainmaker\"', \"Stretch\"],\n",
    "    ['This is a \"Partial quotation', None],\n",
    "    ['End with a \"quote\"', \"quote\"]\n",
    "  ]\n",
    ")"
   ]
  },
  {
   "cell_type": "markdown",
   "metadata": {},
   "source": [
    "# Find All\n",
    "\n",
    "Notice that `search` only finds the _first_ substring that matches the pattern. (See Task 3 above.)  If you want to find _all_ occurrences of a pattern, use `findall`. Notice that `findall` returns a `list`.\n",
    "\n",
    "!!!PLNQ.PassThrough!!!"
   ]
  },
  {
   "cell_type": "code",
   "execution_count": null,
   "metadata": {},
   "outputs": [],
   "source": [
    "input = \"There are 17 giraffes, 14 lions, and 35 monkeys\"\n",
    "m = re.findall(r'\\d+', input)\n",
    "print(m)\n",
    "\n",
    "# !!!PLNQ.PassThrough!!!  "
   ]
  },
  {
   "cell_type": "markdown",
   "metadata": {},
   "source": [
    "# Backreferences\n",
    "\n",
    "If you are looking for consistency/repetition in a pattern, you can refer to previously captured values. The code below shows how to match phone numbers with either `-` or `.`, but insist that the separator is consistent. Note the use of `\\1` between the 2nd and 3rd group of digits.\n",
    "\n",
    "!!!PLNQ.PassThrough!!!"
   ]
  },
  {
   "cell_type": "code",
   "execution_count": null,
   "metadata": {},
   "outputs": [],
   "source": [
    "numbers = ['616-443-2818', '616.443.2818', '6164432818', '616-443.2818', '616.443-2818', '616443-2818', '616.4432818']\n",
    "for number in numbers:\n",
    "    if re.search(r'^\\d\\d\\d(-|\\.|)\\d\\d\\d(\\1)\\d\\d\\d\\d', number):\n",
    "        print(f\"{number}: Match\")\n",
    "    else:\n",
    "        print(f\"{number}: Does not match\")\n",
    "\n",
    "# !!!PLNQ.PassThrough!!!  "
   ]
  },
  {
   "cell_type": "markdown",
   "metadata": {},
   "source": [
    "# Non-Capturing Groups\n",
    "\n",
    "Consider the case of capturing the domain and _optional_ port from a URL. \n",
    "* `http://example.com/index.html`\n",
    "* `http://example.com:443/index.html`\n",
    "\n",
    "A first attempt might look like this: `://([^:]+)(:(\\d+))?/`\n",
    "\n",
    "Notice the nested parentheses: `(:(\\d+))?`\n",
    "* We want to match either both the colon and the number, or neither. Hence, the outer parentheses for the `?`.\n",
    "* However, we only want to capture the number, hence the inner parentheses. \n",
    "\n",
    "!!!PLNQ.PassThrough!!!"
   ]
  },
  {
   "cell_type": "code",
   "execution_count": null,
   "metadata": {},
   "outputs": [],
   "source": [
    "import re\n",
    "\n",
    "for url in ['http://example.noport.com/index.html','http://example.withport.com:443/index.html']:\n",
    "    print(f\"\\nParsing '{url}'\")\n",
    "    m = re.search(r'://([^:/]+)(:(\\d+))?/(.*)$', url)\n",
    "    if not m:\n",
    "        print(\"No match\")\n",
    "        continue\n",
    "    for index, c in enumerate(m.groups()):\n",
    "        print(f\"Group {index}: {c}\")\n",
    "\n",
    "# !!!PLNQ.PassThrough!!!  "
   ]
  },
  {
   "cell_type": "markdown",
   "metadata": {},
   "source": [
    "Notice what happens if we add `?:` to the beginning of the group with the colon:\n",
    "\n",
    "!!!PLNQ.PassThrough!!!"
   ]
  },
  {
   "cell_type": "code",
   "execution_count": null,
   "metadata": {},
   "outputs": [],
   "source": [
    "import re\n",
    "\n",
    "for url in ['http://example.noport.com/index.html','http://example.withport.com:443/index.html']:\n",
    "    print(f\"\\nParsing '{url}'\")\n",
    "    m = re.search(r'://([^:/]+)(?::(\\d+))?/(.*)$', url)\n",
    "    if not m:\n",
    "        print(\"No match\")\n",
    "        continue\n",
    "    for index, c in enumerate(m.groups()):\n",
    "        print(f\"Group {index}: {c}\")\n",
    "\n",
    "# !!!PLNQ.PassThrough!!!  "
   ]
  }
 ],
 "metadata": {
  "kernelspec": {
   "display_name": "Python 3",
   "language": "python",
   "name": "python3"
  },
  "language_info": {
   "codemirror_mode": {
    "name": "ipython",
    "version": 3
   },
   "file_extension": ".py",
   "mimetype": "text/x-python",
   "name": "python",
   "nbconvert_exporter": "python",
   "pygments_lexer": "ipython3",
   "version": "3.13.3"
  }
 },
 "nbformat": 4,
 "nbformat_minor": 2
}
