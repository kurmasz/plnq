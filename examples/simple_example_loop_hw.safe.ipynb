{
 "cells": [
  {
   "cell_type": "code",
   "execution_count": 1,
   "metadata": {},
   "outputs": [],
   "source": [
    "#################################################################\n",
    "#\n",
    "# simple_example_loop.ipynb\n",
    "#\n",
    "# Demonstrates the basic/minimal use of plnq. \n",
    "#\n",
    "# !!! IMPORTANT !!! This is also a regression test !!! \n",
    "#################################################################\n",
    "\n",
    "# \"Magic\" code to place `plnq` into the Jupyter environment's namespace \n",
    "# without overwriting the plnq object injected by the plnq executable.\n",
    "# (You can safely remove these two lines; but, then your editor will\n",
    "# probably complain that plnq is not defined.)\n",
    "if not 'plnq' in globals():  \n",
    "    plnq = __import__('types').SimpleNamespace()\n",
    "    plnq.add_function = lambda x: x\n",
    "\n",
    "\n",
    "# Data for info.json\n",
    "plnq.info = {\n",
    "    \"title\": \"Introduction to Loops\",\n",
    "    \"topic\": \"loops\",\n",
    "    \"tags\": [\"loops\", \"hw\"]\n",
    "}\n",
    "\n",
    "# The functions listed in server.py\n",
    "exported_functions = [\n",
    "    {\n",
    "        'name': 'first_alphabetically',\n",
    "        'description': \"A function that returns the word in a phrase that comes first alphabetically\"\n",
    "    },\n",
    "    {\n",
    "        'name': 'create_abbreviation',\n",
    "        'description': \"A function that returns an abbreviated version of a phrase\"\n",
    "    }\n",
    "]\n",
    "\n",
    "#examples to display to the student\n",
    "displayed_examples = {\n",
    "    'first_alphabetically': [\n",
    "        [\"Ivan the Terrible\", 'ivan'],\n",
    "        ['You win some, you lose some', 'lose']\n",
    "    ],\n",
    "    'create_abbreviation': [\n",
    "        ['United States of America', 'USA'],\n",
    "        ['International Union for the Conservation of Nature', 'IUCN']\n",
    "\n",
    "    ]\n",
    "}\n",
    "\n",
    "# Test cases\n",
    "test_cases = {\n",
    "    'num_long_words': [\n",
    "        [\"Ivan the Terrible\", 5, 1],\n",
    "        [\"Ivan the Terrible\", 9, 0],\n",
    "        [\"Ivan the Terrible\", 3, 3],\n",
    "        [\"Imagination is more important than knowledge\", 5, 3],\n",
    "        [\"Imagination is more important than knowledge\", 10, 1],\n",
    "        [\"Imagination is more important than knowledge\", 12, 0],\n",
    "        [\"Imagination is more important than knowledge\", 9, 3],\n",
    "        [\"Imagination is more important than knowledge\", 3, 5]\n",
    "    ],\n",
    "    'first_alphabetically': [\n",
    "        ['Life is really simple, but we insist on making it complicated', 'but'],\n",
    "        ['Life is like a box of chocolates', 'a']\n",
    "    ], \n",
    "    'create_abbreviation': [\n",
    "        [\"Central Intelligence Agency\", 'CIA'],\n",
    "        [\"Federal Bureau of Investigation\", 'FBI'],\n",
    "        [\"University of the Arts London\",  'UAL'],\n",
    "        [\"Center for the Study of the Presidency and Congress\",  'CSPC']\n",
    "    ]\n",
    "}"
   ]
  },
  {
   "cell_type": "markdown",
   "metadata": {},
   "source": [
    "# Task 1\n",
    "\n",
    "<!-- do comments work? -->\n",
    "\n",
    "Write a function !!!`letters_in_string(phrase)`!!! that returns the number of letters in the string (and ignores spaces, numbers, synmbols, etc.).\n",
    "\n",
    "Hint: Use the `isalpha` method to determine whether a character is a letter. For example `'x'.isalpha()` or `my_char.isalpha()`\n"
   ]
  },
  {
   "cell_type": "code",
   "execution_count": 2,
   "metadata": {},
   "outputs": [
    {
     "ename": "AttributeError",
     "evalue": "'types.SimpleNamespace' object has no attribute 'exported_functions'",
     "output_type": "error",
     "traceback": [
      "\u001b[0;31m---------------------------------------------------------------------------\u001b[0m",
      "\u001b[0;31mAttributeError\u001b[0m                            Traceback (most recent call last)",
      "Cell \u001b[0;32mIn[2], line 1\u001b[0m\n\u001b[0;32m----> 1\u001b[0m \u001b[43mplnq\u001b[49m\u001b[38;5;241;43m.\u001b[39;49m\u001b[43mexported_functions\u001b[49m\u001b[38;5;241m.\u001b[39mappend({\n\u001b[1;32m      2\u001b[0m     \u001b[38;5;124m'\u001b[39m\u001b[38;5;124mname\u001b[39m\u001b[38;5;124m'\u001b[39m: \u001b[38;5;124m'\u001b[39m\u001b[38;5;124mletters_in_string\u001b[39m\u001b[38;5;124m'\u001b[39m,\n\u001b[1;32m      3\u001b[0m     \u001b[38;5;124m'\u001b[39m\u001b[38;5;124mdescription\u001b[39m\u001b[38;5;124m'\u001b[39m: \u001b[38;5;124m\"\u001b[39m\u001b[38;5;124mA function that returns the number of letters in a string\u001b[39m\u001b[38;5;124m\"\u001b[39m\n\u001b[1;32m      4\u001b[0m })\n\u001b[1;32m      6\u001b[0m plnq\u001b[38;5;241m.\u001b[39mdisplayed_examples\u001b[38;5;241m.\u001b[39mappend({ \u001b[38;5;124m'\u001b[39m\u001b[38;5;124mletters_in_string\u001b[39m\u001b[38;5;124m'\u001b[39m: [\n\u001b[1;32m      7\u001b[0m     [\u001b[38;5;124m'\u001b[39m\u001b[38;5;124mHello, World!\u001b[39m\u001b[38;5;124m'\u001b[39m, \u001b[38;5;241m10\u001b[39m],\n\u001b[1;32m      8\u001b[0m     [\u001b[38;5;124m\"\u001b[39m\u001b[38;5;124mTo be, or not to be: that is the question.\u001b[39m\u001b[38;5;124m\"\u001b[39m, \u001b[38;5;241m30\u001b[39m]\n\u001b[1;32m      9\u001b[0m ]})\n\u001b[1;32m     11\u001b[0m plnq\u001b[38;5;241m.\u001b[39mtest_cases\u001b[38;5;241m.\u001b[39mappend({\u001b[38;5;124m'\u001b[39m\u001b[38;5;124mletters_in_string\u001b[39m\u001b[38;5;124m'\u001b[39m: [\n\u001b[1;32m     12\u001b[0m     [\u001b[38;5;124m'\u001b[39m\u001b[38;5;124mC-3PO\u001b[39m\u001b[38;5;124m'\u001b[39m, \u001b[38;5;241m3\u001b[39m],\n\u001b[1;32m     13\u001b[0m     [\u001b[38;5;124m'\u001b[39m\u001b[38;5;124mR2D2\u001b[39m\u001b[38;5;124m'\u001b[39m, \u001b[38;5;241m2\u001b[39m],\n\u001b[0;32m   (...)\u001b[0m\n\u001b[1;32m     18\u001b[0m     [\u001b[38;5;124m'\u001b[39m\u001b[38;5;124m1 2 3 4 5\u001b[39m\u001b[38;5;124m'\u001b[39m, \u001b[38;5;241m0\u001b[39m]\n\u001b[1;32m     19\u001b[0m ]})\n",
      "\u001b[0;31mAttributeError\u001b[0m: 'types.SimpleNamespace' object has no attribute 'exported_functions'"
     ]
    }
   ],
   "source": [
    "plnq.exported_functions.append({\n",
    "    'name': 'letters_in_string',\n",
    "    'description': \"A function that returns the number of letters in a string\"\n",
    "})\n",
    "\n",
    "plnq.displayed_examples.append({ 'letters_in_string': [\n",
    "    ['Hello, World!', 10],\n",
    "    [\"To be, or not to be: that is the question.\", 30]\n",
    "]})\n",
    "\n",
    "plnq.test_cases.append({'letters_in_string': [\n",
    "    ['C-3PO', 3],\n",
    "    ['R2D2', 2],\n",
    "    ['Fourscore and seven years ago', 25],\n",
    "    ['', 0],\n",
    "    ['Mom', 3],\n",
    "    ['12345', 0],\n",
    "    ['1 2 3 4 5', 0]\n",
    "]})\n",
    "\n",
    "plnq.add_function('letters_in_string',\n",
    "    desc=\"A function that returns the number of letters in a string\",          \n",
    "    displayed_examples=[['Hello, World!', 10],\n",
    "     [\"To be, or not to be: that is the question.\", 30]],\n",
    "    test_cases=[['C-3PO', 3],\n",
    "    ['R2D2', 2],\n",
    "    ['Fourscore and seven years ago', 25],\n",
    "    ['', 0],\n",
    "    ['Mom', 3],\n",
    "    ['12345', 0],\n",
    "    ['1 2 3 4 5', 0]\n",
    "])\n",
    "\n",
    "def letters_in_string(phrase):\n",
    "    count = 0\n",
    "    for c in phrase:\n",
    "        if c.isalpha():\n",
    "            count += 1\n",
    "    return count\n"
   ]
  },
  {
   "cell_type": "markdown",
   "metadata": {},
   "source": [
    "# Task 2\n",
    "\n",
    "Write a function !!!`num_long_words(phrase, threshold)`!!! that returns the number of words `threshold` letters or longer in `phrase`.\n",
    "\n",
    "   * Hint: Use the `split` method to split the phrase into a list of individual words.\n"
   ]
  },
  {
   "cell_type": "code",
   "execution_count": null,
   "metadata": {},
   "outputs": [],
   "source": [
    "plnq.exported_functions.append({\n",
    "  'name': 'num_long_words',\n",
    "  'description': \"A function that returns the number of words longer than the threshold\"\n",
    "})\n",
    "\n",
    "plnq.displayed_examples.append({'num_long_words': [\n",
    "        [\"Ivan the Terrible\", 4, 2],\n",
    "        [\"Imagination is more important than knowledge.\", 5, 3]\n",
    "]})\n",
    "\n",
    "plnq.test_cases.append('num_long_words', )\n",
    "\n",
    "\n",
    "def num_long_words(phrase, threshold):\n",
    "    answer = 0\n",
    "    for word in phrase.split(' '):\n",
    "        if len(word) >= threshold:\n",
    "            answer += 1\n",
    "    return answer\n"
   ]
  },
  {
   "cell_type": "markdown",
   "metadata": {},
   "source": [
    "# Task 3\n",
    "\n",
    "Write a function !!!`first_alphabetically(phrase)`!!! that returns the word in `phrase` that comes first alphabetically. (You must use a loop. Do not sort the list.)\n",
    "\n",
    "Use the string method `lower` to convert all words to lower-case (e.g., `word.lower()`)."
   ]
  },
  {
   "cell_type": "code",
   "execution_count": null,
   "metadata": {},
   "outputs": [],
   "source": [
    "def first_alphabetically(phrase):\n",
    "    words = phrase.split(' ')\n",
    "    first_word = words[0].lower()\n",
    "    for word in words:\n",
    "        if word.lower() < first_word:\n",
    "            first_word = word.lower()\n",
    "    return first_word.lower()"
   ]
  },
  {
   "cell_type": "markdown",
   "metadata": {},
   "source": [
    "# Task 4\n",
    "\n",
    "Write a function !!!`create_abbreviation(phrase)`!!! that creates an abbreviation for the phase by taking the first letter of each _capitalized_ word.\n",
    "\n",
    "You can determine whether a character is upper case by calling the `isupper` method (e.g., `some_letter.isupper()`).\n",
    "\n",
    "You can use `+=` to append to a string (e.g., `my_string += 'more words'`)."
   ]
  },
  {
   "cell_type": "code",
   "execution_count": null,
   "metadata": {},
   "outputs": [],
   "source": [
    "def create_abbreviation(phrase):\n",
    "    answer = ''\n",
    "    for word in phrase.split(' '):\n",
    "        if word[0].isupper():\n",
    "            answer += word[0]\n",
    "    return answer"
   ]
  }
 ],
 "metadata": {
  "kernelspec": {
   "display_name": "Python 3",
   "language": "python",
   "name": "python3"
  },
  "language_info": {
   "codemirror_mode": {
    "name": "ipython",
    "version": 3
   },
   "file_extension": ".py",
   "mimetype": "text/x-python",
   "name": "python",
   "nbconvert_exporter": "python",
   "pygments_lexer": "ipython3",
   "version": "3.9.6"
  }
 },
 "nbformat": 4,
 "nbformat_minor": 2
}
