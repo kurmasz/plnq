{
 "cells": [
  {
   "cell_type": "code",
   "execution_count": null,
   "metadata": {},
   "outputs": [],
   "source": [
    "#################################################################\n",
    "#\n",
    "# workspace_with_data_files.ipynb\n",
    "#\n",
    "# Homework problems covering basic file input.\n",
    "#\n",
    "# Demonstrates how to setup a template that includes data files.\n",
    "#\n",
    "# !!! IMPORTANT !!! This is also a regression test !!! \n",
    "#\n",
    "#################################################################\n",
    "\n",
    "# The plnq script provides an object named plnq_d. The block \n",
    "# below creates a mock plnq_d object for when the author runs\n",
    "# code blocks in a Jupyter environment (e.g., when \n",
    "# debugging reference solutions).\n",
    "if not 'plnq_d' in globals():  \n",
    "    import plnq_mock\n",
    "    plnq_d = plnq_mock.setup()\n",
    "\n",
    "# Data for info.json\n",
    "plnq_d.info = {\n",
    "    \"title\": \"Reading Files\",\n",
    "    \"topic\": \"functions\",\n",
    "    \"tags\": [\"files\", \"hw\"]\n",
    "}\n"
   ]
  },
  {
   "cell_type": "markdown",
   "metadata": {},
   "source": [
    "# Task 1\n",
    "\n",
    "Write a function !!!`largest_population(filename)`!!! that reads the specified file and returns the jurisdiction with the largest population.\n"
   ]
  },
  {
   "cell_type": "code",
   "execution_count": null,
   "metadata": {},
   "outputs": [],
   "source": [
    "def largest_population(filename):\n",
    "   with open(filename, 'r') as f:\n",
    "     max_place = ''\n",
    "     max_pop = -1\n",
    "     for line in f:\n",
    "        place, pop_str = line.split(':')\n",
    "        pop = int(pop_str)\n",
    "        if (pop > max_pop):\n",
    "           max_place, max_pop = place, pop\n",
    "   return max_place\n",
    "\n",
    "plnq_d.add_function('largest_population', \n",
    "   desc='A function that returns the jurisdiction with the largest population.',\n",
    "   displayed_examples=[['states.txt', 'California']],\n",
    "   test_cases=[\n",
    "        ['canada.txt', 'Ontario'],\n",
    "        ['europe_capitals.txt', 'London']\n",
    "    ]\n",
    ")"
   ]
  },
  {
   "cell_type": "markdown",
   "metadata": {},
   "source": [
    "# Task 2\n",
    "\n",
    "Write a function !!!`first_match(filename : str, pattern : str) -> str`!!! that returns the first line in `filename` that contains `pattern`. String comparisons should be case sensitive. (You can just use the `in` operator.)\n",
    "\n",
    "Call the `strip` method on a line before using it. This will remove the extra newline at the end.\n"
   ]
  },
  {
   "cell_type": "code",
   "execution_count": null,
   "metadata": {},
   "outputs": [],
   "source": [
    "def first_match(filename, pattern):\n",
    "    with open(filename, 'r') as f:\n",
    "        for line in f:\n",
    "            if pattern in line:\n",
    "                return line.strip()\n",
    "            \n",
    "plnq_d.add_function('first_match',\n",
    "    desc='A function that returns the first line containing the given string',\n",
    "    displayed_examples=[\n",
    "        ['states.txt', 'Georgia', 'Georgia: 10711908'],\n",
    "        ['states.txt', 'North', 'North Carolina: 10852983'],\n",
    "    ],\n",
    "    test_cases=[\n",
    "        ['states.txt', 'New', 'New Hampshire: 1402538'],\n",
    "        ['states.txt', 'y', 'Kentucky: 4512310'],\n",
    "        ['canada.txt', 'New', 'New Brunswick: 804469'],\n",
    "        ['europe_capitals.txt', 'j', 'Ljubljana: 295504']\n",
    "    ])"
   ]
  },
  {
   "cell_type": "markdown",
   "metadata": {},
   "source": [
    "# Task 3\n",
    "\n",
    "Write a function !!!`last_match(filename : str, pattern : str) -> str`!!! that returns the *last* line in `filename` that contains `pattern`. String comparisons should be case sensitive. (You can just use the `in` operator.)\n",
    "\n",
    "Call the `strip` method on a line before using it. This will remove the extra newline at the end."
   ]
  },
  {
   "cell_type": "code",
   "execution_count": null,
   "metadata": {},
   "outputs": [],
   "source": [
    "def last_match(filename, pattern):\n",
    "    answer = ''\n",
    "    with open(filename, 'r') as f:\n",
    "        for line in f:\n",
    "            if pattern in line:\n",
    "                answer = line\n",
    "    return answer.strip()\n",
    "\n",
    "plnq_d.add_function('last_match', \n",
    "    desc='A function that returns the last line containing the given string',\n",
    "    displayed_examples=[\n",
    "        ['states.txt', 'Georgia', 'Georgia: 10711908'],\n",
    "        ['states.txt', 'North', 'North Dakota: 779261'],\n",
    "    ],\n",
    "    test_cases=[\n",
    "        ['states.txt', 'New', 'New York: 19677151'],\n",
    "        ['states.txt', 'y', 'Wyoming: 581381'],\n",
    "        ['canada.txt', 'New', 'Newfoundland and Labrador: 522994'],\n",
    "        ['europe_capitals.txt', 'j', 'Sarajevo: 275524']\n",
    "    ])"
   ]
  }
 ],
 "metadata": {
  "language_info": {
   "name": "python"
  }
 },
 "nbformat": 4,
 "nbformat_minor": 2
}
