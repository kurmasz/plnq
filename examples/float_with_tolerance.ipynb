{
 "cells": [
  {
   "cell_type": "code",
   "execution_count": null,
   "metadata": {},
   "outputs": [],
   "source": [
    "#################################################################\n",
    "#\n",
    "# float_with_tolerance.ipynb\n",
    "#\n",
    "# Demonstrates how to specify a floating point answer with a \n",
    "# specific tolerance.\n",
    "#\n",
    "# Note: Can specify either abs_tol or rel_tol, which are simply\n",
    "# passed to math.isclose\n",
    "#\n",
    "# !!! IMPORTANT !!! This is also a regression test !!! \n",
    "#################################################################\n",
    "\n",
    "# The plnq script provides an object named plnq_d. The block \n",
    "# below creates a mock plnq_d object for when the author runs\n",
    "# code blocks in a Jupyter environment (e.g., when \n",
    "# debugging reference solutions).\n",
    "if not 'plnq_d' in globals():  \n",
    "    import plnq_mock\n",
    "    plnq_d = plnq_mock.setup()\n",
    "\n",
    "# Data for info.json\n",
    "plnq_d.info = {\n",
    "    \"title\": \"Writing Functions (Part 2)\",\n",
    "    \"topic\": \"functions\",\n",
    "    \"tags\": [\"functions\", \"hw\"]\n",
    "}"
   ]
  },
  {
   "cell_type": "markdown",
   "metadata": {},
   "source": [
    "# Task 1\n",
    "\n",
    "Suppose you invest a fixed amount $d$ every month for $y$ years at an annual interest rate of $r$. The formula for the final value of this account is:\n",
    "\n",
    "$d \\left( \\frac{\\left(1 + \\frac{r}{m}\\right)^{my} - 1}{\\frac{r}{m}} \\right)$ \n",
    "\n",
    "(where $m = 12$)\n",
    "\n",
    "Write a function !!!`final_value_monthly(d, y, r)`!!! that computes the amount of money you will have at the end.\n"
   ]
  },
  {
   "cell_type": "code",
   "execution_count": null,
   "metadata": {},
   "outputs": [],
   "source": [
    "from plnq.answer import FloatAnswer\n",
    "\n",
    "plnq_d.add_function('final_value_monthly',\n",
    "  desc=\"A function that returns the final value of an account after regular monthly contributions.\",         \n",
    "  displayed_examples=[\n",
    "    [100, 10, 0.05, FloatAnswer(15528.23, abs_tol=0.01)],\n",
    "    [150, 15, 0.08, FloatAnswer(51905.73, abs_tol=0.01)]\n",
    "  ],\n",
    "  test_cases=[\n",
    "    [100, 10, 0.03, FloatAnswer(13974.14, abs_tol=0.01)]\n",
    "  ]\n",
    ")\n",
    "\n",
    "def final_value_monthly(d, y, r):\n",
    "    import math\n",
    "    monthly_interest = r/12.0\n",
    "    num_months = y*12\n",
    "    return d * (math.pow(1 + monthly_interest, num_months) -1) / (monthly_interest)"
   ]
  },
  {
   "cell_type": "markdown",
   "metadata": {},
   "source": [
    "# Task 2\n",
    "\n",
    "Now suppose that you begin your monthly savings program with an initial investment of $initial$ dollars.\n",
    "\n",
    "Write a function !!!`final_value_initial_plus_monthly(initial, d, y, r)`!!! that that computes the amount of money you will have at the end.  Hint: Copy your implementation of `final_value` from In-Class 4 into the code block below and call it and `final_value_monthly` when calculating the answer for `final_value_initial_plus_monthly`. _Avoid duplicating code you've already written_.\n",
    "\n",
    "If you don't have In-Class 4 handy, the formula for `final_value` is $a = p(1 + \\frac{r}{n})^{nt}$\n",
    "\n"
   ]
  },
  {
   "cell_type": "code",
   "execution_count": null,
   "metadata": {},
   "outputs": [],
   "source": [
    "import math\n",
    "\n",
    "plnq_d.add_function('final_value_initial_plus_monthly',\n",
    "  desc=\"A function that returns the final value of an account after regular monthly contributions.\",         \n",
    "  displayed_examples=[\n",
    "    [1000, 100, 10, 0.05, FloatAnswer(15528.23 + 1647.01, abs_tol=0.01)],\n",
    "    [2500, 150, 15, 0.08, FloatAnswer(60173.04, abs_tol=0.01)]\n",
    "  ],\n",
    "  test_cases=[\n",
    "     [10000, 500, 30, .12, FloatAnswer(2106978.48, abs_tol=0.01)]\n",
    "  ]\n",
    ")\n",
    "\n",
    "def my_money(p, r, n, t):\n",
    "    return p*math.pow(1 + r/n, n*t)\n",
    "\n",
    "def final_value_initial_plus_monthly(initial, d, y, r):\n",
    "    return my_money(initial, r, 12, y) + final_value_monthly(d, y, r)\n",
    "\n",
    "# final_value_initial_plus_monthly(10000, 500, 30, .12)\n"
   ]
  }
 ],
 "metadata": {
  "kernelspec": {
   "display_name": "venv",
   "language": "python",
   "name": "python3"
  },
  "language_info": {
   "codemirror_mode": {
    "name": "ipython",
    "version": 3
   },
   "file_extension": ".py",
   "mimetype": "text/x-python",
   "name": "python",
   "nbconvert_exporter": "python",
   "pygments_lexer": "ipython3",
   "version": "3.13.3"
  }
 },
 "nbformat": 4,
 "nbformat_minor": 2
}
