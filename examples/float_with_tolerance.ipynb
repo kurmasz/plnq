{
 "cells": [
  {
   "cell_type": "code",
   "execution_count": null,
   "metadata": {},
   "outputs": [],
   "source": [
    "#################################################################\n",
    "#\n",
    "# float_with_tolerance.ipynb\n",
    "#\n",
    "# Demonstrates how to specify a floating point answer with a \n",
    "# specific tolerance.\n",
    "#\n",
    "# Note: Can specify either abs_tol or rel_tol, which are simply\n",
    "# passed to math.isclose\n",
    "#\n",
    "# !!! IMPORTANT !!! This is also a regression test !!! \n",
    "#################################################################\n",
    "\n",
    "# \"Magic\" code to place `plnq` into the Jupyter environment's namespace \n",
    "# without overwriting the plnq object injected by the plnq executable.\n",
    "# (You can safely remove these two lines; but, then your editor will\n",
    "# probably complain that plnq is not defined.)\n",
    "if not 'plnq' in globals():  \n",
    "    plnq = __import__('types').SimpleNamespace()\n",
    "    plnq.add_function = lambda *args, **kwargs: (args, kwargs)\n",
    "\n",
    "# Data for info.json\n",
    "plnq.info = {\n",
    "    \"title\": \"Writing Functions (Part 2)\",\n",
    "    \"topic\": \"functions\",\n",
    "    \"tags\": [\"functions\", \"hw\"]\n",
    "}"
   ]
  },
  {
   "cell_type": "markdown",
   "metadata": {},
   "source": [
    "# Task 1\n",
    "\n",
    "Suppose you invest a fixed amount $d$ every month for $y$ years at an annual interest rate of $r$. The formula for the final value of this account is:\n",
    "\n",
    "$d \\left( \\frac{\\left(1 + \\frac{r}{m}\\right)^{my} - 1}{\\frac{r}{m}} \\right)$ \n",
    "\n",
    "(where $m = 12$)\n",
    "\n",
    "Write a function !!!`final_value_monthly(d, y, r)`!!! that computes the amount of money you will have at the end.\n"
   ]
  },
  {
   "cell_type": "code",
   "execution_count": 4,
   "metadata": {},
   "outputs": [
    {
     "ename": "NameError",
     "evalue": "name 'FloatAnswer' is not defined",
     "output_type": "error",
     "traceback": [
      "\u001b[31m---------------------------------------------------------------------------\u001b[39m",
      "\u001b[31mNameError\u001b[39m                                 Traceback (most recent call last)",
      "\u001b[36mCell\u001b[39m\u001b[36m \u001b[39m\u001b[32mIn[4]\u001b[39m\u001b[32m, line 4\u001b[39m\n\u001b[32m      1\u001b[39m plnq.add_function(\u001b[33m'\u001b[39m\u001b[33mfinal_value_monthly\u001b[39m\u001b[33m'\u001b[39m,\n\u001b[32m      2\u001b[39m   desc=\u001b[33m\"\u001b[39m\u001b[33mA function that returns the final value of an account after regular monthly contributions.\u001b[39m\u001b[33m\"\u001b[39m,         \n\u001b[32m      3\u001b[39m   displayed_examples=[\n\u001b[32m----> \u001b[39m\u001b[32m4\u001b[39m     [\u001b[32m100\u001b[39m, \u001b[32m10\u001b[39m, \u001b[32m0.05\u001b[39m, \u001b[43mFloatAnswer\u001b[49m(\u001b[32m15528.23\u001b[39m, abs_tol=\u001b[32m0.01\u001b[39m)],\n\u001b[32m      5\u001b[39m     [\u001b[32m150\u001b[39m, \u001b[32m15\u001b[39m, \u001b[32m0.08\u001b[39m, FloatAnswer(\u001b[32m51905.73\u001b[39m, abs_tol=\u001b[32m0.01\u001b[39m)]\n\u001b[32m      6\u001b[39m   ],\n\u001b[32m      7\u001b[39m   test_cases=[\n\u001b[32m      8\u001b[39m     [\u001b[32m100\u001b[39m, \u001b[32m10\u001b[39m, \u001b[32m0.03\u001b[39m, FloatAnswer(\u001b[32m13974.14\u001b[39m, abs_tol=\u001b[32m0.01\u001b[39m)]\n\u001b[32m      9\u001b[39m   ]\n\u001b[32m     10\u001b[39m )\n\u001b[32m     12\u001b[39m \u001b[38;5;28;01mdef\u001b[39;00m\u001b[38;5;250m \u001b[39m\u001b[34mfinal_value_monthly\u001b[39m(d, y, r):\n\u001b[32m     13\u001b[39m     \u001b[38;5;28;01mimport\u001b[39;00m\u001b[38;5;250m \u001b[39m\u001b[34;01mmath\u001b[39;00m\n",
      "\u001b[31mNameError\u001b[39m: name 'FloatAnswer' is not defined"
     ]
    }
   ],
   "source": [
    "plnq.add_function('final_value_monthly',\n",
    "  desc=\"A function that returns the final value of an account after regular monthly contributions.\",         \n",
    "  displayed_examples=[\n",
    "    [100, 10, 0.05, FloatAnswer(15528.23, abs_tol=0.01)],\n",
    "    [150, 15, 0.08, FloatAnswer(51905.73, abs_tol=0.01)]\n",
    "  ],\n",
    "  test_cases=[\n",
    "    [100, 10, 0.03, FloatAnswer(13974.14, abs_tol=0.01)]\n",
    "  ]\n",
    ")\n",
    "\n",
    "def final_value_monthly(d, y, r):\n",
    "    import math\n",
    "    monthly_interest = r/12.0\n",
    "    num_months = y*12\n",
    "    return d * (math.pow(1 + monthly_interest, num_months) -1) / (monthly_interest)"
   ]
  },
  {
   "cell_type": "markdown",
   "metadata": {},
   "source": [
    "# Task 2\n",
    "\n",
    "Now suppose that you begin your monthly savings program with an initial investment of $initial$ dollars.\n",
    "\n",
    "Write a function !!!`final_value_initial_plus_monthly(initial, d, y, r)`!!! that that computes the amount of money you will have at the end.  Hint: Copy your implementation of `final_value` from In-Class 4 into the code block below and call it and `final_value_monthly` when calculating the answer for `final_value_initial_plus_monthly`. _Avoid duplicating code you've already written`.\n",
    "\n"
   ]
  },
  {
   "cell_type": "code",
   "execution_count": null,
   "metadata": {},
   "outputs": [
    {
     "ename": "NameError",
     "evalue": "name 'plnq' is not defined",
     "output_type": "error",
     "traceback": [
      "\u001b[31m---------------------------------------------------------------------------\u001b[39m",
      "\u001b[31mNameError\u001b[39m                                 Traceback (most recent call last)",
      "\u001b[36mCell\u001b[39m\u001b[36m \u001b[39m\u001b[32mIn[1]\u001b[39m\u001b[32m, line 3\u001b[39m\n\u001b[32m      1\u001b[39m \u001b[38;5;28;01mimport\u001b[39;00m\u001b[38;5;250m \u001b[39m\u001b[34;01mmath\u001b[39;00m\n\u001b[32m----> \u001b[39m\u001b[32m3\u001b[39m \u001b[43mplnq\u001b[49m.add_function(\u001b[33m'\u001b[39m\u001b[33mfinal_value_initial_plus_monthly\u001b[39m\u001b[33m'\u001b[39m,\n\u001b[32m      4\u001b[39m   desc=\u001b[33m\"\u001b[39m\u001b[33mA function that returns the final value of an account after regular monthly contributions.\u001b[39m\u001b[33m\"\u001b[39m,         \n\u001b[32m      5\u001b[39m   displayed_examples=[\n\u001b[32m      6\u001b[39m     [\u001b[32m1000\u001b[39m, \u001b[32m100\u001b[39m, \u001b[32m10\u001b[39m, \u001b[32m0.05\u001b[39m, FloatAnswer(\u001b[32m15528.23\u001b[39m + \u001b[32m1647.01\u001b[39m, abs_tol=\u001b[32m0.01\u001b[39m)],\n\u001b[32m      7\u001b[39m     [\u001b[32m2500\u001b[39m, \u001b[32m150\u001b[39m, \u001b[32m15\u001b[39m, \u001b[32m0.08\u001b[39m, FloatAnswer(\u001b[32m60173.04\u001b[39m, abs_tol=\u001b[32m0.01\u001b[39m)]\n\u001b[32m      8\u001b[39m   ],\n\u001b[32m      9\u001b[39m   test_cases=[\n\u001b[32m     10\u001b[39m      [\u001b[32m10000\u001b[39m, \u001b[32m500\u001b[39m, \u001b[32m30\u001b[39m, \u001b[32m.12\u001b[39m, FloatAnswer(\u001b[32m2106978.48\u001b[39m, abs_tol=\u001b[32m0.01\u001b[39m)]\n\u001b[32m     11\u001b[39m   ]\n\u001b[32m     12\u001b[39m )\n\u001b[32m     14\u001b[39m \u001b[38;5;28;01mdef\u001b[39;00m\u001b[38;5;250m \u001b[39m\u001b[34mmy_money\u001b[39m(p, r, n, t):\n\u001b[32m     15\u001b[39m     \u001b[38;5;28;01mreturn\u001b[39;00m p*math.pow(\u001b[32m1\u001b[39m + r/n, n*t)\n",
      "\u001b[31mNameError\u001b[39m: name 'plnq' is not defined"
     ]
    }
   ],
   "source": [
    "import math\n",
    "\n",
    "plnq.add_function('final_value_initial_plus_monthly',\n",
    "  desc=\"A function that returns the final value of an account after regular monthly contributions.\",         \n",
    "  displayed_examples=[\n",
    "    [1000, 100, 10, 0.05, FloatAnswer(15528.23 + 1647.01, abs_tol=0.01)],\n",
    "    [2500, 150, 15, 0.08, FloatAnswer(60173.04, abs_tol=0.01)]\n",
    "  ],\n",
    "  test_cases=[\n",
    "     [10000, 500, 30, .12, FloatAnswer(2106978.48, abs_tol=0.01)]\n",
    "  ]\n",
    ")\n",
    "\n",
    "def my_money(p, r, n, t):\n",
    "    return p*math.pow(1 + r/n, n*t)\n",
    "\n",
    "def final_value_initial_plus_monthly(initial, d, y, r):\n",
    "    return my_money(initial, r, 12, y) + final_value_monthly(d, y, r)\n",
    "\n",
    "# final_value_initial_plus_monthly(10000, 500, 30, .12)\n"
   ]
  }
 ],
 "metadata": {
  "kernelspec": {
   "display_name": "Python 3",
   "language": "python",
   "name": "python3"
  },
  "language_info": {
   "codemirror_mode": {
    "name": "ipython",
    "version": 3
   },
   "file_extension": ".py",
   "mimetype": "text/x-python",
   "name": "python",
   "nbconvert_exporter": "python",
   "pygments_lexer": "ipython3",
   "version": "3.13.3"
  }
 },
 "nbformat": 4,
 "nbformat_minor": 2
}
