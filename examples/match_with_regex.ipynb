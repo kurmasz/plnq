{
 "cells": [
  {
   "cell_type": "code",
   "execution_count": null,
   "id": "cb80e4a7",
   "metadata": {},
   "outputs": [],
   "source": [
    "#################################################################\n",
    "#\n",
    "# match_with_regex.ipynb\n",
    "#\n",
    "# Demonstrates how to use regular expressions to validate \n",
    "# return values. Note: this only works for testing functions \n",
    "# that return strings.\n",
    "#\n",
    "# !!! IMPORTANT !!! This is also a regression test !!! \n",
    "#################################################################\n",
    "\n",
    "# The plnq script provides an object named plnq_d. The block \n",
    "# below creates a mock plnq_d object for when the author runs\n",
    "# code blocks in a Jupyter environment (e.g., when \n",
    "# debugging reference solutions).\n",
    "if not 'plnq_d' in globals():  \n",
    "  import plnq_mock\n",
    "  plnq_d = plnq_mock.setup()\n",
    "\n",
    "\n",
    "# Data for info.json\n",
    "plnq_d.info = {\n",
    "  \"title\": \"Check using Regular Expressions\",\n",
    "  \"topic\": \"strings\",\n",
    "  \"tags\": [\"example\"]\n",
    "}"
   ]
  },
  {
   "cell_type": "markdown",
   "id": "dc6ad907",
   "metadata": {},
   "source": [
    "# Task 1\n",
    "\n",
    "Write a function !!!`my_join(lst, connector)`!!! that joins the elements of `lst` using whitespace.\n",
    "\n",
    "_I also added a `connector` parameter so I can demonstrate how `ReAnswer` accepts different answers as correct.\n",
    "I don't love this example, but I'm having trouble coming up with a realistic, simpler one. "
   ]
  },
  {
   "cell_type": "code",
   "execution_count": null,
   "id": "bc03f0ab",
   "metadata": {},
   "outputs": [],
   "source": [
    "\n",
    "from plnq.answer import ReAnswer\n",
    "\n",
    "def my_join(lst, connector):\n",
    "    return connector.join(lst)\n",
    "\n",
    "\n",
    "expected_answer = ReAnswer(r'^Joe\\s+James\\s+Sara$')\n",
    "plnq_d.add_function('my_join',\n",
    "    desc='Returns joins elements of a list.',\n",
    "    displayed_examples=[\n",
    "        [['Joe', 'James', 'Sara'], ' ', expected_answer]\n",
    "    ],\n",
    "    test_cases=[\n",
    "        [['Joe', 'James', 'Sara'], '   ', expected_answer],\n",
    "        [['Joe', 'James', 'Sara'], ' ', expected_answer],\n",
    "        [['Joe', 'James', 'Sara'], '\\n', expected_answer],\n",
    "        [['Joe', 'James', 'Sara'], ' \\n  ', expected_answer],\n",
    "])"
   ]
  },
  {
   "cell_type": "markdown",
   "id": "822819a9",
   "metadata": {},
   "source": [
    "# Task 2\n",
    "\n",
    "Write a function named !!!`black_and_white(num)`!!! that returns the name of the color that is a mix of black and white.\n"
   ]
  },
  {
   "cell_type": "code",
   "execution_count": null,
   "id": "023c5b8c",
   "metadata": {},
   "outputs": [],
   "source": [
    "from plnq.answer import ReAnswer\n",
    "\n",
    "def black_and_white(num):\n",
    "    return ['gray', 'grey', 'Gray', 'grey'][num]\n",
    "\n",
    "expected_answer = ReAnswer(r'^(g|G)r(a|e)y$', alt_answer='\"gray\" or \"grey\"')\n",
    "plnq_d.add_function('black_and_white',\n",
    "    desc='Returns the name of a color that has multiple spellings.',\n",
    "    displayed_examples=[\n",
    "        [0, expected_answer]\n",
    "    ],\n",
    "    test_cases=[\n",
    "        [1, expected_answer],\n",
    "        [2, expected_answer],\n",
    "        [3, expected_answer]\n",
    "])                                      "
   ]
  }
 ],
 "metadata": {
  "language_info": {
   "name": "python"
  }
 },
 "nbformat": 4,
 "nbformat_minor": 5
}
