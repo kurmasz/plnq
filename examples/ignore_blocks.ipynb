{
 "cells": [
  {
   "cell_type": "code",
   "execution_count": null,
   "metadata": {},
   "outputs": [],
   "source": [
    "#################################################################\n",
    "#\n",
    "# ignore_blocks.ipynb\n",
    "#\n",
    "# Demonstrates how to ignore specified in put blocks.\n",
    "#\n",
    "# !!! IMPORTANT !!! This is also a regression test !!! \n",
    "#################################################################\n",
    "\n",
    "# Note: The blocks to be ignored are specified by index.\n",
    "# Inserting or deleting blocks will change the indices.\n",
    "config = {\n",
    "    \"ignore\": [3, 8] \n",
    "}\n",
    "\n",
    "# Data for info.json\n",
    "info = {\n",
    "    \"title\": \"Introduction to Loops\",\n",
    "    \"topic\": \"loops\",\n",
    "    \"tags\": [\"loops\", \"hw\"]\n",
    "}\n",
    "\n",
    "# The functions listed in server.py\n",
    "exported_functions = [\n",
    "    {\n",
    "        'name': 'letters_in_string',\n",
    "        'description': \"A function that returns the number of letters in a string\"\n",
    "    },\n",
    "    {\n",
    "        'name': 'num_long_words',\n",
    "        'description': \"A function that returns the number of words longer than the threshold\"\n",
    "    },\n",
    "    {\n",
    "        'name': 'first_alphabetically',\n",
    "        'description': \"A function that returns the word in a phrase that comes first alphabetically\"\n",
    "    },\n",
    "    {\n",
    "        'name': 'create_abbreviation',\n",
    "        'description': \"A function that returns an abbreviated version of a phrase\"\n",
    "    }\n",
    "]\n",
    "\n",
    "#examples to display to the student\n",
    "displayed_examples = {\n",
    "    'letters_in_string': [\n",
    "        ['Hello, World!', 10],\n",
    "        [\"To be, or not to be: that is the question.\", 30]\n",
    "    ],\n",
    "    'num_long_words': [\n",
    "        [\"Ivan the Terrible\", 4, 2],\n",
    "        [\"Imagination is more important than knowledge.\", 5, 3]\n",
    "    ],\n",
    "    'first_alphabetically': [\n",
    "        [\"Ivan the Terrible\", 'ivan'],\n",
    "        ['You win some, you lose some', 'lose']\n",
    "    ],\n",
    "    'create_abbreviation': [\n",
    "        ['United States of America', 'USA'],\n",
    "        ['International Union for the Conservation of Nature', 'IUCN']\n",
    "\n",
    "    ]\n",
    "}\n",
    "\n",
    "# Test cases\n",
    "test_cases = {\n",
    "    'letters_in_string': [\n",
    "        ['C-3PO', 3],\n",
    "        ['R2D2', 2],\n",
    "        ['Fourscore and seven years ago', 25],\n",
    "        ['', 0],\n",
    "        ['Mom', 3],\n",
    "        ['12345', 0],\n",
    "        ['1 2 3 4 5', 0]\n",
    "    ],\n",
    "    'num_long_words': [\n",
    "        [\"Ivan the Terrible\", 5, 1],\n",
    "        [\"Ivan the Terrible\", 9, 0],\n",
    "        [\"Ivan the Terrible\", 3, 3],\n",
    "        [\"Imagination is more important than knowledge\", 5, 3],\n",
    "        [\"Imagination is more important than knowledge\", 10, 1],\n",
    "        [\"Imagination is more important than knowledge\", 12, 0],\n",
    "        [\"Imagination is more important than knowledge\", 9, 3],\n",
    "        [\"Imagination is more important than knowledge\", 3, 5]\n",
    "    ],\n",
    "    'first_alphabetically': [\n",
    "        ['Life is really simple, but we insist on making it complicated', 'but'],\n",
    "        ['Life is like a box of chocolates', 'a']\n",
    "    ], \n",
    "    'create_abbreviation': [\n",
    "        [\"Central Intelligence Agency\", 'CIA'],\n",
    "        [\"Federal Bureau of Investigation\", 'FBI'],\n",
    "        [\"University of the Arts London\",  'UAL'],\n",
    "        [\"Center for the Study of the Presidency and Congress\",  'CSPC']\n",
    "    ]\n",
    "}"
   ]
  },
  {
   "cell_type": "markdown",
   "metadata": {},
   "source": [
    "# Task 1\n",
    "\n",
    "<!-- do comments work? -->\n",
    "\n",
    "Write a function !!!`letters_in_string(phrase)`!!! that returns the number of letters in the string (and ignores spaces, numbers, synmbols, etc.).\n",
    "\n",
    "Hint: Use the `isalpha` method to determine whether a character is a letter. For example `'x'.isalpha()` or `my_char.isalpha()`\n"
   ]
  },
  {
   "cell_type": "code",
   "execution_count": null,
   "metadata": {},
   "outputs": [],
   "source": [
    "def letters_in_string(phrase):\n",
    "    count = 0\n",
    "    for c in phrase:\n",
    "        if c.isalpha():\n",
    "            count += 1\n",
    "    return count\n"
   ]
  },
  {
   "cell_type": "markdown",
   "metadata": {},
   "source": [
    "This markdown block is ignored. It does not appear in the generated question"
   ]
  },
  {
   "cell_type": "markdown",
   "metadata": {},
   "source": [
    "# Task 2\n",
    "\n",
    "Write a function !!!`num_long_words(phrase, threshold)`!!! that returns the number of words `threshold` letters or longer in `phrase`.\n",
    "\n",
    "   * Hint: Use the `split` method to split the phrase into a list of individual words.\n"
   ]
  },
  {
   "cell_type": "code",
   "execution_count": null,
   "metadata": {},
   "outputs": [],
   "source": [
    "def num_long_words(phrase, threshold):\n",
    "    answer = 0\n",
    "    for word in phrase.split(' '):\n",
    "        if len(word) >= threshold:\n",
    "            answer += 1\n",
    "    return answer\n"
   ]
  },
  {
   "cell_type": "markdown",
   "metadata": {},
   "source": [
    "# Task 3\n",
    "\n",
    "Write a function !!!`first_alphabetically(phrase)`!!! that returns the word in `phrase` that comes first alphabetically. (You must use a loop. Do not sort the list.)\n",
    "\n",
    "Use the string method `lower` to convert all words to lower-case (e.g., `word.lower()`)."
   ]
  },
  {
   "cell_type": "code",
   "execution_count": null,
   "metadata": {},
   "outputs": [],
   "source": [
    "def first_alphabetically(phrase):\n",
    "    words = phrase.split(' ')\n",
    "    first_word = words[0].lower()\n",
    "    for word in words:\n",
    "        if word.lower() < first_word:\n",
    "            first_word = word.lower()\n",
    "    return first_word.lower()"
   ]
  },
  {
   "cell_type": "code",
   "execution_count": null,
   "metadata": {},
   "outputs": [],
   "source": [
    "# This code block is also ignored. It does not influence the output."
   ]
  },
  {
   "cell_type": "markdown",
   "metadata": {},
   "source": [
    "# Task 4\n",
    "\n",
    "Write a function !!!`create_abbreviation(phrase)`!!! that creates an abbreviation for the phase by taking the first letter of each _capitalized_ word.\n",
    "\n",
    "You can determine whether a character is upper case by calling the `isupper` method (e.g., `some_letter.isupper()`).\n",
    "\n",
    "You can use `+=` to append to a string (e.g., `my_string += 'more words'`)."
   ]
  },
  {
   "cell_type": "code",
   "execution_count": null,
   "metadata": {},
   "outputs": [],
   "source": [
    "def create_abbreviation(phrase):\n",
    "    answer = ''\n",
    "    for word in phrase.split(' '):\n",
    "        if word[0].isupper():\n",
    "            answer += word[0]\n",
    "    return answer"
   ]
  }
 ],
 "metadata": {
  "language_info": {
   "name": "python"
  }
 },
 "nbformat": 4,
 "nbformat_minor": 2
}
