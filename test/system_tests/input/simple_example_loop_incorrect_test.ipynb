{
 "cells": [
  {
   "cell_type": "code",
   "execution_count": null,
   "metadata": {},
   "outputs": [],
   "source": [
    "#################################################################\n",
    "#\n",
    "# simple_example_incorrect_test.ipynb\n",
    "#\n",
    "# One of the tests has an incorrect expected output.\n",
    "# This test verifies that plnq reports it.\n",
    "#\n",
    "#################################################################\n",
    "\n",
    "# The plnq script provides an object named plnq_d. The block \n",
    "# below creates a mock plnq_d object for when the author runs\n",
    "# code blocks in a Jupyter environment (e.g., when \n",
    "# debugging reference solutions).\n",
    "if not 'plnq_d' in globals():  \n",
    "    import plnq_mock\n",
    "    plnq_d = plnq_mock.setup()\n",
    "\n",
    "\n",
    "# Data for info.json\n",
    "plnq_d.info = {\n",
    "    \"title\": \"Introduction to Loops\",\n",
    "    \"topic\": \"loops\",\n",
    "    \"tags\": [\"loops\", \"hw\"]\n",
    "}"
   ]
  },
  {
   "cell_type": "markdown",
   "metadata": {},
   "source": [
    "# Task 1\n",
    "\n",
    "<!-- do comments work? -->\n",
    "\n",
    "Write a function !!!`letters_in_string(phrase)`!!! that returns the number of letters in the string (and ignores spaces, numbers, synmbols, etc.).\n",
    "\n",
    "Hint: Use the `isalpha` method to determine whether a character is a letter. For example `'x'.isalpha()` or `my_char.isalpha()`\n"
   ]
  },
  {
   "cell_type": "code",
   "execution_count": null,
   "metadata": {},
   "outputs": [],
   "source": [
    "plnq_d.add_function('letters_in_string',\n",
    "  desc=\"A function that returns the number of letters in a string\",          \n",
    "  displayed_examples=[\n",
    "    ['Hello, World!', 10],\n",
    "    [\"To be, or not to be: that is the question.\", 31]],  # expected output is incorrect (should be 30)\n",
    "  test_cases=[\n",
    "    ['C-3PO', 3],\n",
    "    ['R2D2', 2],\n",
    "    ['Fourscore and seven years ago', 24], # expected output is incorrect (should be 25)\n",
    "    ['', 0],\n",
    "    ['Mom', 3],\n",
    "    ['12345', 0],\n",
    "    ['1 2 3 4 5', 0]]\n",
    ")\n",
    "\n",
    "def letters_in_string(phrase):\n",
    "    count = 0\n",
    "    for c in phrase:\n",
    "        if c.isalpha():\n",
    "            count += 1\n",
    "    return count"
   ]
  },
  {
   "cell_type": "markdown",
   "metadata": {},
   "source": [
    "<!-- ignore -->\n",
    "\n",
    "# Task 2\n",
    "\n",
    "Write a function !!!`num_long_words(phrase, threshold)`!!! that returns the number of words `threshold` letters or longer in `phrase`.\n",
    "\n",
    "   * Hint: Use the `split` method to split the phrase into a list of individual words.\n"
   ]
  },
  {
   "cell_type": "code",
   "execution_count": null,
   "metadata": {},
   "outputs": [],
   "source": [
    "plnq_d.add_function('num_long_words',\n",
    "  desc=\"A function that returns the number of words longer than the threshold\",\n",
    "  displayed_examples=[\n",
    "    [\"Ivan the Terrible\", 4, 2],\n",
    "    [\"Imagination is more important than knowledge.\", 5, 3]\n",
    "  ],\n",
    "  test_cases=[\n",
    "    [\"Ivan the Terrible\", 5, 1],\n",
    "    [\"Ivan the Terrible\", 9, 0],\n",
    "    [\"Ivan the Terrible\", 3, 3],\n",
    "    [\"Imagination is more important than knowledge\", 5, 3],\n",
    "    [\"Imagination is more important than knowledge\", 10, 1],\n",
    "    [\"Imagination is more important than knowledge\", 12, 0],\n",
    "    [\"Imagination is more important than knowledge\", 9, 3],\n",
    "    [\"Imagination is more important than knowledge\", 3, 5]\n",
    "    ]\n",
    ")\n",
    "\n",
    "def num_long_words(phrase, threshold):\n",
    "    answer = 0\n",
    "    for word in phrase.split(' '):\n",
    "        if len(word) >= threshold:\n",
    "            answer += 1\n",
    "    return answer\n"
   ]
  },
  {
   "cell_type": "markdown",
   "metadata": {},
   "source": [
    "# Task 3\n",
    "\n",
    "Write a function !!!`first_alphabetically(phrase)`!!! that returns the word in `phrase` that comes first alphabetically. (You must use a loop. Do not sort the list.)\n",
    "\n",
    "Use the string method `lower` to convert all words to lower-case (e.g., `word.lower()`)."
   ]
  },
  {
   "cell_type": "code",
   "execution_count": null,
   "metadata": {},
   "outputs": [],
   "source": [
    "plnq_d.add_function('first_alphabetically',\n",
    "  desc=\"A function that returns the word in a phrase that comes first alphabetically\",\n",
    "  displayed_examples=[\n",
    "     [\"Ivan the Terrible\", 'ivan'],\n",
    "     ['You win some, you lose some', 'lose']], \n",
    "  test_cases=[\n",
    "    ['Life is really simple, but we insist on making it complicated', 'but'],\n",
    "    ['Life is like a box of chocolates', 'a']] \n",
    ")\n",
    "\n",
    "def first_alphabetically(phrase):\n",
    "    words = phrase.split(' ')\n",
    "    first_word = words[0].lower()\n",
    "    for word in words:\n",
    "        if word.lower() < first_word:\n",
    "            first_word = word.lower()\n",
    "    return first_word.lower()"
   ]
  },
  {
   "cell_type": "markdown",
   "metadata": {},
   "source": [
    "# Task 4\n",
    "\n",
    "Write a function !!!`create_abbreviation(phrase)`!!! that creates an abbreviation for the phase by taking the first letter of each _capitalized_ word.\n",
    "\n",
    "You can determine whether a character is upper case by calling the `isupper` method (e.g., `some_letter.isupper()`).\n",
    "\n",
    "You can use `+=` to append to a string (e.g., `my_string += 'more words'`)."
   ]
  },
  {
   "cell_type": "code",
   "execution_count": null,
   "metadata": {},
   "outputs": [],
   "source": [
    "plnq_d.add_function('create_abbreviation', \n",
    "  desc=\"A function that returns an abbreviated version of a phrase\",\n",
    "  displayed_examples=[\n",
    "    ['United States of America', 'USA'],\n",
    "    ['International Union for the Conservation of Nature', 'IUCN']],\n",
    "  test_cases=[\n",
    "    [\"Central Intelligence Agency\", 'CIA'],\n",
    "    [\"Federal Bureau of Investigation\", 'FBI'],\n",
    "    [\"University of the Arts London\",  'UAL'],\n",
    "    [\"Center for the Study of the Presidency and Congress\",  'CSPC']\n",
    "  ]                    \n",
    ")\n",
    "\n",
    "def create_abbreviation(phrase):\n",
    "    answer = ''\n",
    "    for word in phrase.split(' '):\n",
    "        if word[0].isupper():\n",
    "            answer += word[0]\n",
    "    return answer"
   ]
  }
 ],
 "metadata": {
  "kernelspec": {
   "display_name": "Python 3",
   "language": "python",
   "name": "python3"
  },
  "language_info": {
   "codemirror_mode": {
    "name": "ipython",
    "version": 3
   },
   "file_extension": ".py",
   "mimetype": "text/x-python",
   "name": "python",
   "nbconvert_exporter": "python",
   "pygments_lexer": "ipython3",
   "version": "3.9.6"
  }
 },
 "nbformat": 4,
 "nbformat_minor": 2
}
