{
 "cells": [
  {
   "cell_type": "code",
   "execution_count": null,
   "metadata": {},
   "outputs": [],
   "source": [
    "#################################################################\n",
    "#\n",
    "# mutator_function_with_incorrect_expected_return.ipynb\n",
    "#\n",
    "# Verify that plnq will report error if expected return value\n",
    "# differs from what is returned by teh reference solution \n",
    "# _when using InlineAnswer_\n",
    "# \n",
    "#################################################################\n",
    "\n",
    "# The plnq script provides an object named plnq_d. The block \n",
    "# below creates a mock plnq_d object for when the author runs\n",
    "# code blocks in a Jupyter environment (e.g., when \n",
    "# debugging reference solutions).\n",
    "if not 'plnq_d' in globals():  \n",
    "  import plnq_mock\n",
    "  plnq_d = plnq_mock.setup()\n",
    "\n",
    "\n",
    "# Data for info.json\n",
    "plnq_d.info = {\n",
    "  \"title\": \"Mutating Lists\",\n",
    "  \"topic\": \"lists\",\n",
    "  \"tags\": [\"list\", \"hw\"]\n",
    "}"
   ]
  },
  {
   "cell_type": "markdown",
   "metadata": {},
   "source": [
    "# Task 1\n",
    "\n",
    "Write a function !!!`truncate_and_count(low, high, lst)`!!! that modifies `lst` such that any item less than `low` is changed to `low` and any item greater than `high` is changed to `high`. _It should then return the number of list items modified._ (Note: This is not necessarily good software design. I'm just demonstrating how `InlineAnswer` works. A more common scenario would be for the function to return `lst` so the function call could be chained.)"
   ]
  },
  {
   "cell_type": "code",
   "execution_count": null,
   "metadata": {},
   "outputs": [],
   "source": [
    "from plnq.answer import InlineAnswer\n",
    "\n",
    "def truncate_and_count(low, high, lst):\n",
    "  count = 0\n",
    "  for index, item in enumerate(lst):\n",
    "    if (item < low):\n",
    "      lst[index] = low\n",
    "      count += 1\n",
    "    if (item > high):\n",
    "      lst[index] = high\n",
    "      count += 1\n",
    "  return count\n",
    "\n",
    "plnq_d.add_function('truncate_and_count', \n",
    "  desc='Another function to adjust list values to remain in a given range',\n",
    "  displayed_examples=[\n",
    "    [0, 10, [1, 2, -3, 4, 5, 11, 12], InlineAnswer([1, 2, 0, 4, 5, 10, 10], param_index=2, expected_return_value=2)]  # expected_return_value should be 3\n",
    "  ],\n",
    "  test_cases=[\n",
    "    [3, 7, [2, 3, 4, 5, 6, 7, 8], InlineAnswer([3, 3, 4, 5, 6, 7, 7], param_index=2, expected_return_value=2)],\n",
    "    [6, 8, [1, 2, 0, 3], InlineAnswer([6, 6, 6, 6], param_index=2, expected_return_value=4)],\n",
    "    [6, 8, [11, 12, 10, 13], InlineAnswer([8, 8, 8, 8], param_index=2)],  # expected return value should be None\n",
    "    [5, 8, [6, 7, 6, 7], InlineAnswer([6, 7, 6, 7], param_index=2, expected_return_value=0)],\n",
    "    [5, 8, [], InlineAnswer([], param_index=2, expected_return_value=0)]\n",
    "])"
   ]
  }
 ],
 "metadata": {
  "kernelspec": {
   "display_name": "venv",
   "language": "python",
   "name": "python3"
  },
  "language_info": {
   "codemirror_mode": {
    "name": "ipython",
    "version": 3
   },
   "file_extension": ".py",
   "mimetype": "text/x-python",
   "name": "python",
   "nbconvert_exporter": "python",
   "pygments_lexer": "ipython3",
   "version": "3.13.3"
  }
 },
 "nbformat": 4,
 "nbformat_minor": 2
}
