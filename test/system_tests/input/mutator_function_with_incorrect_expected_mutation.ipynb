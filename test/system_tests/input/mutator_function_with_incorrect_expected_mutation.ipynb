{
 "cells": [
  {
   "cell_type": "code",
   "execution_count": null,
   "metadata": {},
   "outputs": [],
   "source": [
    "#################################################################\n",
    "#\n",
    "# mutator_function_with_incorrect_expected_mutation.ipynb\n",
    "#\n",
    "# Verify that plnq will report error if expected mutation\n",
    "# differs from actual mutation.\n",
    "#\n",
    "# \n",
    "#################################################################\n",
    "\n",
    "# The plnq script provides an object named plnq_d. The block \n",
    "# below creates a mock plnq_d object for when the author runs\n",
    "# code blocks in a Jupyter environment (e.g., when \n",
    "# debugging reference solutions).\n",
    "if not 'plnq_d' in globals():  \n",
    "  import plnq_mock\n",
    "  plnq_d = plnq_mock.setup()\n",
    "\n",
    "\n",
    "# Data for info.json\n",
    "plnq_d.info = {\n",
    "  \"title\": \"Mutating Lists\",\n",
    "  \"topic\": \"lists\",\n",
    "  \"tags\": [\"list\", \"hw\"]\n",
    "}"
   ]
  },
  {
   "cell_type": "markdown",
   "metadata": {},
   "source": [
    "# Task 1\n",
    "\n",
    "Write a function !!!`remove_suffixes(lst)`!!! that converts a list of \"+/-\" grades into a list of \"straight\" grades by removing any modifiers. This function should modify `lst`. It should not return a new list."
   ]
  },
  {
   "cell_type": "code",
   "execution_count": null,
   "metadata": {},
   "outputs": [],
   "source": [
    "from plnq.answer import InlineAnswer\n",
    "\n",
    "def remove_suffixes(lst):\n",
    "  for i in range(len(lst)):\n",
    "    lst[i] = lst[i][0]\n",
    "\n",
    "plnq_d.add_function('remove_suffixes', \n",
    "  desc='A function to convert \"+/-\" grades into \"straight\" grades',\n",
    "  displayed_examples=[\n",
    "    [['A', 'A-', 'C+', 'D'], InlineAnswer(['A', 'A', 'C+', 'D'])]  # Answer should contain C not C+\n",
    "  ],\n",
    "  test_cases=[\n",
    "    [['B+'], InlineAnswer(['B'])],\n",
    "    [['C'], InlineAnswer(['C'])],\n",
    "    [[], InlineAnswer(['C'])]  # Answer should be []\n",
    "])"
   ]
  }
 ],
 "metadata": {
  "kernelspec": {
   "display_name": "venv",
   "language": "python",
   "name": "python3"
  },
  "language_info": {
   "codemirror_mode": {
    "name": "ipython",
    "version": 3
   },
   "file_extension": ".py",
   "mimetype": "text/x-python",
   "name": "python",
   "nbconvert_exporter": "python",
   "pygments_lexer": "ipython3",
   "version": "3.13.3"
  }
 },
 "nbformat": 4,
 "nbformat_minor": 2
}
