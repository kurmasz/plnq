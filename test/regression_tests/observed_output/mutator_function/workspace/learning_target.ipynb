{
  "cells": [
    {
      "cell_type": "markdown",
      "metadata": {
        "collapsed": false
      },
      "source": "# Task 1\n\nWrite a function `remove_suffixes(lst)` that converts a list of \"+/-\" grades into a list of \"straight\" grades by removing any modifiers. This function should modify `lst`. It should not return a new list.\n\nFor example:\n  * `remove_suffixes([\"A\", \"A-\", \"C+\", \"D\"])` should modify the first parameter to be `['A', 'A', 'C', 'D']`\n"
    },
    {
      "cell_type": "code",
      "execution_count": null,
      "metadata": {
        "collapsed": false
      },
      "outputs": [],
      "source": [
        "#grade IMPORTANT: Do not remove or modify this line\n",
        "def remove_suffixes(lst):\n",
        "    pass"
      ]
    },
    {
      "cell_type": "markdown",
      "metadata": {
        "collapsed": false
      },
      "source": "# Task 2\n\nWrite a function `truncate(low, high, lst)` that modifies `lst` such that any item less than `low` is changed to `low` and any item greater than `high` is changed to `high`. This function should modify `lst`. It should not return a new list.\n\nFor example:\n  * `truncate(0, 10, [1, 2, -3, 4, 5, 11, 12])` should modify the third parameter to be `[1, 2, 0, 4, 5, 10, 10]`\n"
    },
    {
      "cell_type": "code",
      "execution_count": null,
      "metadata": {
        "collapsed": false
      },
      "outputs": [],
      "source": [
        "#grade IMPORTANT: Do not remove or modify this line\n",
        "def truncate(low, high, lst):\n",
        "    pass"
      ]
    },
    {
      "cell_type": "markdown",
      "metadata": {
        "collapsed": false
      },
      "source": "# Task 3\n\nWrite a function `truncate_and_count(low, high, lst)` that modifies `lst` such that any item less than `low` is changed to `low` and any item greater than `high` is changed to `high`. _It should then return the number of list items modified._ (Note: This is not necessarily good software design. I'm just demonstrating how `InlineAnswer` works. A more common scenario would be for the function to return `lst` so the function call could be chained.)\n\nFor example:\n  * `truncate_and_count(0, 10, [1, 2, -3, 4, 5, 11, 12])` should modify the third parameter to be `[1, 2, 0, 4, 5, 10, 10]`\n"
    },
    {
      "cell_type": "code",
      "execution_count": null,
      "metadata": {
        "collapsed": false
      },
      "outputs": [],
      "source": [
        "#grade IMPORTANT: Do not remove or modify this line\n",
        "def truncate_and_count(low, high, lst):\n",
        "    pass"
      ]
    }
  ],
  "metadata": {
    "kernelspec": {
      "display_name": "Python 3 (system-wide)",
      "language": "python",
      "metadata": {
        "cocalc": {
          "description": "Python 3 programming language",
          "priority": 100,
          "url": "https://www.python.org/"
        }
      },
      "name": "python3",
      "resource_dir": "/ext/jupyter/kernels/python3"
    },
    "language_info": {
      "codemirror_mode": {
        "name": "ipython",
        "version": 3
      },
      "file_extension": ".py",
      "mimetype": "text/x-python",
      "name": "python",
      "nbconvert_exporter": "python",
      "pygments_lexer": "ipython3",
      "version": "3.8.2"
    }
  },
  "nbformat": 4,
  "nbformat_minor": 4
}