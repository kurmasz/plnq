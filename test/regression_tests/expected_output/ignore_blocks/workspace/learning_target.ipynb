{
  "cells": [
    {
      "cell_type": "markdown",
      "metadata": {
        "collapsed": false
      },
      "source": [
        "",
        "# Task 1\n",
        "\n",
        "<!-- do comments work? -->\n",
        "\n",
        "Write a function `letters_in_string(phrase)` that returns the number of letters in the string (and ignores spaces, numbers, synmbols, etc.).\n",
        "\n",
        "Hint: Use the `isalpha` method to determine whether a character is a letter. For example `'x'.isalpha()` or `my_char.isalpha()`\n",
        "\n",
        "For example:\n",
        "  * `letters_in_string(\"Hello, World!\")` should return `10`\n",
        "  * `letters_in_string(\"To be, or not to be: that is the question.\")` should return `30`\n"
      ]
    },
    {
      "cell_type": "code",
      "execution_count": null,
      "metadata": {
        "collapsed": false
      },
      "outputs": [],
      "source": [
        "#grade IMPORTANT: Do not remove or modify this line\n",
        "def letters_in_string(phrase):\n",
        "    pass"
      ]
    },
    {
      "cell_type": "markdown",
      "metadata": {
        "collapsed": false
      },
      "source": [
        "",
        "# Task 2\n",
        "\n",
        "Write a function `num_long_words(phrase, threshold)` that returns the number of words `threshold` letters or longer in `phrase`.\n",
        "\n",
        "   * Hint: Use the `split` method to split the phrase into a list of individual words.\n",
        "\n",
        "For example:\n",
        "  * `num_long_words(\"Ivan the Terrible\", 4)` should return `2`\n",
        "  * `num_long_words(\"Imagination is more important than knowledge.\", 5)` should return `3`\n"
      ]
    },
    {
      "cell_type": "code",
      "execution_count": null,
      "metadata": {
        "collapsed": false
      },
      "outputs": [],
      "source": [
        "#grade IMPORTANT: Do not remove or modify this line\n",
        "def num_long_words(phrase, threshold):\n",
        "    pass"
      ]
    },
    {
      "cell_type": "markdown",
      "metadata": {
        "collapsed": false
      },
      "source": [
        "",
        "# Task 3\n",
        "\n",
        "Write a function `first_alphabetically(phrase)` that returns the word in `phrase` that comes first alphabetically. (You must use a loop. Do not sort the list.)\n",
        "\n",
        "Use the string method `lower` to convert all words to lower-case (e.g., `word.lower()`).",
        "\n",
        "For example:\n",
        "  * `first_alphabetically(\"Ivan the Terrible\")` should return `ivan`\n",
        "  * `first_alphabetically(\"You win some, you lose some\")` should return `lose`\n"
      ]
    },
    {
      "cell_type": "code",
      "execution_count": null,
      "metadata": {
        "collapsed": false
      },
      "outputs": [],
      "source": [
        "#grade IMPORTANT: Do not remove or modify this line\n",
        "def first_alphabetically(phrase):\n",
        "    pass"
      ]
    },
    {
      "cell_type": "markdown",
      "metadata": {
        "collapsed": false
      },
      "source": [
        "",
        "# Task 4\n",
        "\n",
        "Write a function `create_abbreviation(phrase)` that creates an abbreviation for the phase by taking the first letter of each _capitalized_ word.\n",
        "\n",
        "You can determine whether a character is upper case by calling the `isupper` method (e.g., `some_letter.isupper()`).\n",
        "\n",
        "You can use `+=` to append to a string (e.g., `my_string += 'more words'`).",
        "\n",
        "For example:\n",
        "  * `create_abbreviation(\"United States of America\")` should return `USA`\n",
        "  * `create_abbreviation(\"International Union for the Conservation of Nature\")` should return `IUCN`\n"
      ]
    },
    {
      "cell_type": "code",
      "execution_count": null,
      "metadata": {
        "collapsed": false
      },
      "outputs": [],
      "source": [
        "#grade IMPORTANT: Do not remove or modify this line\n",
        "def create_abbreviation(phrase):\n",
        "    pass"
      ]
    }
  ],
  "metadata": {
    "kernelspec": {
      "display_name": "Python 3 (system-wide)",
      "language": "python",
      "metadata": {
        "cocalc": {
          "description": "Python 3 programming language",
          "priority": 100,
          "url": "https://www.python.org/"
        }
      },
      "name": "python3",
      "resource_dir": "/ext/jupyter/kernels/python3"
    },
    "language_info": {
      "codemirror_mode": {
        "name": "ipython",
        "version": 3
      },
      "file_extension": ".py",
      "mimetype": "text/x-python",
      "name": "python",
      "nbconvert_exporter": "python",
      "pygments_lexer": "ipython3",
      "version": "3.8.2"
    }
  },
  "nbformat": 4,
  "nbformat_minor": 4
}