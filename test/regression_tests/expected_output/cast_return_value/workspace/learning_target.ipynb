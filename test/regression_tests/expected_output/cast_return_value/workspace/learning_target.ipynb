{
  "cells": [
    {
      "cell_type": "markdown",
      "metadata": {
        "collapsed": false
      },
      "source": "# Task 1\n\nWrite a function `is_standard_phone_number(str)` that uses a regular expression to determine whether the given string is a US 10-digit phone number. Match the entire string. Phone numbers must be in the standard format using only digits and dashes. Other formats (using parentheses, spaces, periods, etc.) are not allowed.\n\nFor example:\n  * `is_standard_phone_number(\"16-231-4379\")` should return `False`\n  * `is_standard_phone_number(\"616-231-43789\")` should return `False`\n  * `is_standard_phone_number(\"800-THE-BOMB\")` should return `False`\n  * `is_standard_phone_number(\"(616)-331-5000\")` should return `False`\n"
    },
    {
      "cell_type": "code",
      "execution_count": null,
      "metadata": {
        "collapsed": false
      },
      "outputs": [],
      "source": [
        "#grade IMPORTANT: Do not remove or modify this line\n",
        "def is_standard_phone_number(str):\n",
        "    pass"
      ]
    },
    {
      "cell_type": "markdown",
      "metadata": {
        "collapsed": false
      },
      "source": "# Task 2\n\nWrite a function `is_paren_phone_number(str)` that uses a regular expression to determine whether the given string is a US 10-digit phone number that may or may not have parentheses around the area code. Match the entire string. (Remember to add a `\\` before parens that you want to match)\n\nFor example:\n  * `is_paren_phone_number(\"(616)-231-4378\")` should return `True`\n  * `is_paren_phone_number(\"616-231-4379\")` should return `True`\n  * `is_paren_phone_number(\"616.231.4379\")` should return `False`\n  * `is_paren_phone_number(\"(616-231-4379\")` should return `False`\n  * `is_paren_phone_number(\"616)-231-4379\")` should return `False`\n"
    },
    {
      "cell_type": "code",
      "execution_count": null,
      "metadata": {
        "collapsed": false
      },
      "outputs": [],
      "source": [
        "#grade IMPORTANT: Do not remove or modify this line\n",
        "def is_paren_phone_number(str):\n",
        "    pass"
      ]
    },
    {
      "cell_type": "markdown",
      "metadata": {
        "collapsed": false
      },
      "source": "# Task 3\n\nWrite a function `is_dotted_phone_number(str)` that uses a regular expression to determine whether the given string is a US 10-digit phone number that may optionally use dots instead of dashes. Match the entire string.\n\nFor example:\n  * `is_dotted_phone_number(\"(616)-231-4378\")` should return `True`\n  * `is_dotted_phone_number(\"616-231-4379\")` should return `True`\n  * `is_dotted_phone_number(\"616.231.4379\")` should return `True`\n  * `is_dotted_phone_number(\"16-231-4379\")` should return `False`\n  * `is_dotted_phone_number(\"616-231-43789\")` should return `False`\n  * `is_dotted_phone_number(\"800-THE-BOMB\")` should return `False`\n"
    },
    {
      "cell_type": "code",
      "execution_count": null,
      "metadata": {
        "collapsed": false
      },
      "outputs": [],
      "source": [
        "#grade IMPORTANT: Do not remove or modify this line\n",
        "def is_dotted_phone_number(str):\n",
        "    pass"
      ]
    },
    {
      "cell_type": "markdown",
      "metadata": {
        "collapsed": false
      },
      "source": "# Task 4\n\nWrite a function `is_integer(str)` that uses a regular expression to determine whether the given string is an integer. The integer may or may not be singed (i.e., have a leading `+` or `-`).\n\nFor example:\n  * `is_integer(\"54323344\")` should return `True`\n  * `is_integer(\"-4310\")` should return `True`\n  * `is_integer(\"-.71\")` should return `False`\n  * `is_integer(\"43a67\")` should return `False`\n  * `is_integer(\"a\")` should return `False`\n  * `is_integer(\"+b\")` should return `False`\n  * `is_integer(\"55+16\")` should return `False`\n  * `is_integer(\"55-16\")` should return `False`\n  * `is_integer(\"55-\")` should return `False`\n  * `is_integer(\"+-55\")` should return `False`\n  * `is_integer(\"-+55\")` should return `False`\n  * `is_integer(\"++55\")` should return `False`\n  * `is_integer(\"--55\")` should return `False`\n"
    },
    {
      "cell_type": "code",
      "execution_count": null,
      "metadata": {
        "collapsed": false
      },
      "outputs": [],
      "source": [
        "#grade IMPORTANT: Do not remove or modify this line\n",
        "def is_integer(str):\n",
        "    pass"
      ]
    },
    {
      "cell_type": "markdown",
      "metadata": {
        "collapsed": false
      },
      "source": "# Task 5\n\nWrite a function `is_ip_address(str)` that uses a regular expression to determine whether the given string _has the form_ of an IP address.\nSpecifically, an IP address is four integers separated by periods. These integers must be in the range `[0, 255]`, but for this problem it is sufficient to verify that the integers have between 1 and 3 digits. (You need not verify that the integer is at most 255.)\n\nTry to write a concise regular expression. (In other words, don't just repeat the same thing four times!)\n\nFor example:\n  * `is_ip_address(\"192.168.133.112\")` should return `True`\n  * `is_ip_address(\"48.117.41.3\")` should return `True`\n  * `is_ip_address(\"12.33.33\")` should return `False`\n  * `is_ip_address(\"12..331.19\")` should return `False`\n"
    },
    {
      "cell_type": "code",
      "execution_count": null,
      "metadata": {
        "collapsed": false
      },
      "outputs": [],
      "source": [
        "#grade IMPORTANT: Do not remove or modify this line\n",
        "def is_ip_address(str):\n",
        "    pass"
      ]
    }
  ],
  "metadata": {
    "kernelspec": {
      "display_name": "Python 3 (system-wide)",
      "language": "python",
      "metadata": {
        "cocalc": {
          "description": "Python 3 programming language",
          "priority": 100,
          "url": "https://www.python.org/"
        }
      },
      "name": "python3",
      "resource_dir": "/ext/jupyter/kernels/python3"
    },
    "language_info": {
      "codemirror_mode": {
        "name": "ipython",
        "version": 3
      },
      "file_extension": ".py",
      "mimetype": "text/x-python",
      "name": "python",
      "nbconvert_exporter": "python",
      "pygments_lexer": "ipython3",
      "version": "3.8.2"
    }
  },
  "nbformat": 4,
  "nbformat_minor": 4
}