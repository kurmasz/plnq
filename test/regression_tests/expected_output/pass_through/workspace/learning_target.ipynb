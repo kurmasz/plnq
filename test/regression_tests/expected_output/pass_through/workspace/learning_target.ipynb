{
  "cells": [
    {
      "cell_type": "markdown",
      "metadata": {},
      "source": "# InClass: Regular Expression Capture\n\nYou may find these resources helpful:\n  * Chapter 12 from the online textbook [Python for Everybody](https://runestone.academy/ns/books/published/py4e-int/regex/combiningsearchingandextracting.html).\n  * The [Python re documentation](https://docs.python.org/3/library/re.html).\n\nWhen applying a regular expression pattern to a string, we can \"capture\" part of that pattern.\n\nRecall that part of a regular expression pattern can be in parentheses. Originally, we used parentheses to group a portion of the regular expression to be repeated, or to group alternatives. We can extract the portion of a string that matches these parentheses.\n\nThe function `re.search()` returns a `re.Match` object when a string matches a pattern. We can query this object to find out exactly what matches.\n\nNotice that `search()` only finds the _first_ match.\n\n"
    },
    {
      "cell_type": "code",
      "execution_count": null,
      "metadata": {},
      "outputs": [],
      "source": "import re\nwords = ['bat', 'cat', 'bit', 'bite', 'abate', 'robot', 'baste', 'rabid', 'debt', 'about', 'bitbot']\nfor word in words:\n    match = re.search(r'b.t', word)\n    if match == None:\n        print(f\"'{word}' does not match.\")\n    else:\n        print(f\"characters '{match.group()}' at positions {match.span()} match\")\n\n"
    },
    {
      "cell_type": "markdown",
      "metadata": {},
      "source": "We can also use the `Match` object to access any portion of the pattern marked with parentheses:\n\n"
    },
    {
      "cell_type": "code",
      "execution_count": null,
      "metadata": {},
      "outputs": [],
      "source": "import re\n\nfilms2 = ['Frontier(s) (2007)', '(K)nox: The Rob Knox Story (2021)', 'I (Almost) Got Away With It (2010)', 'Star Wars', 'Superman (19887)']\nfor film in films2:\n    match = re.search (r'\\((\\d{4})\\)$', film)\n    if match == None:\n        print(f\"'{film}' does not match.\")\n    else:\n        print(f\"Entire matching portion: {match[0]}\") # Notice that match[0] is the entire match\n        print(f\"Group 1: {match[1]}\")\n\n"
    },
    {
      "cell_type": "markdown",
      "metadata": {
        "collapsed": false
      },
      "source": "# Task 1\n\nWrite a method `extract_phone(str)` that extracts the digits from a phone number in the form `616-231-5544`, or returns `None` if the string is not a properly formatted phone number. (Match the entire string.)\n\nFor example:\n  * `extract_phone(\"616-231-4455\")` should return `6162314455`\n  * `extract_phone(\"(616)-231-4455\")` should return `None`\n  * `extract_phone(\"616-231-445\")` should return `None`\n"
    },
    {
      "cell_type": "code",
      "execution_count": null,
      "metadata": {
        "collapsed": false
      },
      "outputs": [],
      "source": [
        "#grade IMPORTANT: Do not remove or modify this line\n",
        "def extract_phone(str):\n",
        "    pass"
      ]
    },
    {
      "cell_type": "markdown",
      "metadata": {
        "collapsed": false
      },
      "source": "# Task 2\n\nConsider the format string used by `matplotlib's` `plot` function: (https://matplotlib.org/stable/api/_as_gen/matplotlib.pyplot.plot.html)\n\nWrite a function `parse_format(str)` that uses a regular expression to parse and extract the marker, line, and color from a format string.\n* Assume the components are in this order: marker, line, color.\n* Return the extracted values as a tuple: `(marker, line, color)`\n* Each component is optional. If a component is not present, place `None` in the tuple. \n* If the string is not a valid format string, return `None`\n\nHint: The following letters are used for colors: `b`, `g`, `r`, `c`, `m`, `y`, `k`, and `w`. None of these letters are valid markers.\n\nFor example:\n  * `parse_format(\"D-g\")` should return `('D', '-', 'g')`\n  * `parse_format(\"k\")` should return `(None, None, 'k')`\n  * `parse_format(\":y\")` should return `(None, ':', 'y')`\n"
    },
    {
      "cell_type": "code",
      "execution_count": null,
      "metadata": {
        "collapsed": false
      },
      "outputs": [],
      "source": [
        "#grade IMPORTANT: Do not remove or modify this line\n",
        "def parse_format(str):\n",
        "    pass"
      ]
    },
    {
      "cell_type": "markdown",
      "metadata": {
        "collapsed": false
      },
      "source": "# Task 3\n\nWrite a function `get_first_quote(str)` that returns the contents of the _first_ quote in a string. (Be careful: The string may contain more than one quote.). Return `None` if the string does not contain any quotes.\n\nFor example:\n  * `get_first_quote(\"Here comes \\\"Pickles\\\" and \\\"Wheezer\\\".\")` should return `Pickles`\n  * `get_first_quote(\"There are no quotes here\")` should return `None`\n"
    },
    {
      "cell_type": "code",
      "execution_count": null,
      "metadata": {
        "collapsed": false
      },
      "outputs": [],
      "source": [
        "#grade IMPORTANT: Do not remove or modify this line\n",
        "def get_first_quote(str):\n",
        "    pass"
      ]
    },
    {
      "cell_type": "markdown",
      "metadata": {},
      "source": "# Find All\n\nNotice that `search` only finds the _first_ substring that matches the pattern. (See Task 3 above.)  If you want to find _all_ occurrences of a pattern, use `findall`. Notice that `findall` returns a `list`.\n\n"
    },
    {
      "cell_type": "code",
      "execution_count": null,
      "metadata": {},
      "outputs": [],
      "source": "input = \"There are 17 giraffes, 14 lions, and 35 monkeys\"\nm = re.findall(r'\\d+', input)\nprint(m)\n\n"
    },
    {
      "cell_type": "markdown",
      "metadata": {},
      "source": "# Backreferences\n\nIf you are looking for consistency/repetition in a pattern, you can refer to previously captured values. The code below shows how to match phone numbers with either `-` or `.`, but insist that the separator is consistent. Note the use of `\\1` between the 2nd and 3rd group of digits.\n\n"
    },
    {
      "cell_type": "code",
      "execution_count": null,
      "metadata": {},
      "outputs": [],
      "source": "numbers = ['616-443-2818', '616.443.2818', '6164432818', '616-443.2818', '616.443-2818', '616443-2818', '616.4432818']\nfor number in numbers:\n    if re.search(r'^\\d\\d\\d(-|\\.|)\\d\\d\\d(\\1)\\d\\d\\d\\d', number):\n        print(f\"{number}: Match\")\n    else:\n        print(f\"{number}: Does not match\")\n\n"
    },
    {
      "cell_type": "markdown",
      "metadata": {},
      "source": "# Non-Capturing Groups\n\nConsider the case of capturing the domain and _optional_ port from a URL. \n* `http://example.com/index.html`\n* `http://example.com:443/index.html`\n\nA first attempt might look like this: `://([^:]+)(:(\\d+))?/`\n\nNotice the nested parentheses: `(:(\\d+))?`\n* We want to match either both the colon and the number, or neither. Hence, the outer parentheses for the `?`.\n* However, we only want to capture the number, hence the inner parentheses. \n\n"
    },
    {
      "cell_type": "code",
      "execution_count": null,
      "metadata": {},
      "outputs": [],
      "source": "import re\n\nfor url in ['http://example.noport.com/index.html','http://example.withport.com:443/index.html']:\n    print(f\"\\nParsing '{url}'\")\n    m = re.search(r'://([^:/]+)(:(\\d+))?/(.*)$', url)\n    if not m:\n        print(\"No match\")\n        continue\n    for index, c in enumerate(m.groups()):\n        print(f\"Group {index}: {c}\")\n\n"
    },
    {
      "cell_type": "markdown",
      "metadata": {},
      "source": "Notice what happens if we add `?:` to the beginning of the group with the colon:\n\n"
    },
    {
      "cell_type": "code",
      "execution_count": null,
      "metadata": {},
      "outputs": [],
      "source": "import re\n\nfor url in ['http://example.noport.com/index.html','http://example.withport.com:443/index.html']:\n    print(f\"\\nParsing '{url}'\")\n    m = re.search(r'://([^:/]+)(?::(\\d+))?/(.*)$', url)\n    if not m:\n        print(\"No match\")\n        continue\n    for index, c in enumerate(m.groups()):\n        print(f\"Group {index}: {c}\")\n\n"
    }
  ],
  "metadata": {
    "kernelspec": {
      "display_name": "Python 3 (system-wide)",
      "language": "python",
      "metadata": {
        "cocalc": {
          "description": "Python 3 programming language",
          "priority": 100,
          "url": "https://www.python.org/"
        }
      },
      "name": "python3",
      "resource_dir": "/ext/jupyter/kernels/python3"
    },
    "language_info": {
      "codemirror_mode": {
        "name": "ipython",
        "version": 3
      },
      "file_extension": ".py",
      "mimetype": "text/x-python",
      "name": "python",
      "nbconvert_exporter": "python",
      "pygments_lexer": "ipython3",
      "version": "3.8.2"
    }
  },
  "nbformat": 4,
  "nbformat_minor": 4
}