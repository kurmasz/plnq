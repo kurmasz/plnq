{
  "cells": [
    {
      "cell_type": "markdown",
      "metadata": {
        "collapsed": false
      },
      "source": "# Task 1\n\nSuppose you invest a fixed amount $d$ every month for $y$ years at an annual interest rate of $r$. The formula for the final value of this account is:\n\n$d \\left( \\frac{\\left(1 + \\frac{r}{m}\\right)^{my} - 1}{\\frac{r}{m}} \\right)$ \n\n(where $m = 12$)\n\nWrite a function `final_value_monthly(d, y, r)` that computes the amount of money you will have at the end.\n\nFor example:\n  * `final_value_monthly(100, 10, 0.05)` should return `15528.23`\n  * `final_value_monthly(150, 15, 0.08)` should return `51905.73`\n"
    },
    {
      "cell_type": "code",
      "execution_count": null,
      "metadata": {
        "collapsed": false
      },
      "outputs": [],
      "source": [
        "#grade IMPORTANT: Do not remove or modify this line\n",
        "def final_value_monthly(d, y, r):\n",
        "    pass"
      ]
    },
    {
      "cell_type": "markdown",
      "metadata": {
        "collapsed": false
      },
      "source": "# Task 2\n\nNow suppose that you begin your monthly savings program with an initial investment of $initial$ dollars.\n\nWrite a function `final_value_initial_plus_monthly(initial, d, y, r)` that that computes the amount of money you will have at the end.  Hint: Copy your implementation of `final_value` from In-Class 4 into the code block below and call it and `final_value_monthly` when calculating the answer for `final_value_initial_plus_monthly`. _Avoid duplicating code you've already written`.\n\nFor example:\n  * `final_value_initial_plus_monthly(1000, 100, 10, 0.05)` should return `17175.239999999998`\n  * `final_value_initial_plus_monthly(2500, 150, 15, 0.08)` should return `60173.04`\n"
    },
    {
      "cell_type": "code",
      "execution_count": null,
      "metadata": {
        "collapsed": false
      },
      "outputs": [],
      "source": [
        "#grade IMPORTANT: Do not remove or modify this line\n",
        "def final_value_initial_plus_monthly(initial, d, y, r):\n",
        "    pass"
      ]
    }
  ],
  "metadata": {
    "kernelspec": {
      "display_name": "Python 3 (system-wide)",
      "language": "python",
      "metadata": {
        "cocalc": {
          "description": "Python 3 programming language",
          "priority": 100,
          "url": "https://www.python.org/"
        }
      },
      "name": "python3",
      "resource_dir": "/ext/jupyter/kernels/python3"
    },
    "language_info": {
      "codemirror_mode": {
        "name": "ipython",
        "version": 3
      },
      "file_extension": ".py",
      "mimetype": "text/x-python",
      "name": "python",
      "nbconvert_exporter": "python",
      "pygments_lexer": "ipython3",
      "version": "3.8.2"
    }
  },
  "nbformat": 4,
  "nbformat_minor": 4
}