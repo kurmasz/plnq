{
  "cells": [
    {
      "cell_type": "markdown",
      "metadata": {
        "collapsed": false
      },
      "source": "# Task 1\n\nWrite a function `largest_population(filename)` that reads the specified file and returns the jurisdiction with the largest population.\n\nFor example:\n  * `largest_population(\"states.txt\")` should return `California`\n"
    },
    {
      "cell_type": "code",
      "execution_count": null,
      "metadata": {
        "collapsed": false
      },
      "outputs": [],
      "source": [
        "#grade IMPORTANT: Do not remove or modify this line\n",
        "def largest_population(filename):\n",
        "    pass"
      ]
    },
    {
      "cell_type": "markdown",
      "metadata": {
        "collapsed": false
      },
      "source": "# Task 2\n\nWrite a function `first_match(filename : str, pattern : str) -> str` that returns the first line in `filename` that contains `pattern`. String comparisons should be case sensitive. (You can just use the `in` operator.)\n\nCall the `strip` method on a line before using it. This will remove the extra newline at the end.\n\nFor example:\n  * `first_match(\"states.txt\", \"Georgia\")` should return `Georgia: 10711908`\n  * `first_match(\"states.txt\", \"North\")` should return `North Carolina: 10852983`\n"
    },
    {
      "cell_type": "code",
      "execution_count": null,
      "metadata": {
        "collapsed": false
      },
      "outputs": [],
      "source": [
        "#grade IMPORTANT: Do not remove or modify this line\n",
        "def first_match(filename : str, pattern : str) -> str:\n",
        "    pass"
      ]
    },
    {
      "cell_type": "markdown",
      "metadata": {
        "collapsed": false
      },
      "source": "# Task 3\n\nWrite a function `last_match(filename : str, pattern : str) -> str` that returns the *last* line in `filename` that contains `pattern`. String comparisons should be case sensitive. (You can just use the `in` operator.)\n\nCall the `strip` method on a line before using it. This will remove the extra newline at the end.\n\nFor example:\n  * `last_match(\"states.txt\", \"Georgia\")` should return `Georgia: 10711908`\n  * `last_match(\"states.txt\", \"North\")` should return `North Dakota: 779261`\n"
    },
    {
      "cell_type": "code",
      "execution_count": null,
      "metadata": {
        "collapsed": false
      },
      "outputs": [],
      "source": [
        "#grade IMPORTANT: Do not remove or modify this line\n",
        "def last_match(filename : str, pattern : str) -> str:\n",
        "    pass"
      ]
    }
  ],
  "metadata": {
    "kernelspec": {
      "display_name": "Python 3 (system-wide)",
      "language": "python",
      "metadata": {
        "cocalc": {
          "description": "Python 3 programming language",
          "priority": 100,
          "url": "https://www.python.org/"
        }
      },
      "name": "python3",
      "resource_dir": "/ext/jupyter/kernels/python3"
    },
    "language_info": {
      "codemirror_mode": {
        "name": "ipython",
        "version": 3
      },
      "file_extension": ".py",
      "mimetype": "text/x-python",
      "name": "python",
      "nbconvert_exporter": "python",
      "pygments_lexer": "ipython3",
      "version": "3.8.2"
    }
  },
  "nbformat": 4,
  "nbformat_minor": 4
}